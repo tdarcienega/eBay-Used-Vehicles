{
 "cells": [
  {
   "cell_type": "markdown",
   "metadata": {
    "collapsed": true
   },
   "source": [
    "## eBay Classifieds Data Cleaning & Analysis\n",
    "In this project we wil be looking at for-sale cars data collected from the German Ebay. We will be using various data cleaning techniques to then make inghighful obeservations about the price, make, and odometer of the cars.\n"
   ]
  },
  {
   "cell_type": "markdown",
   "metadata": {},
   "source": [
    "### Step 1: Data Read-In & Exploration"
   ]
  },
  {
   "cell_type": "code",
   "execution_count": 97,
   "metadata": {
    "collapsed": true
   },
   "outputs": [],
   "source": [
    "import pandas as pd\n",
    "import numpy as np"
   ]
  },
  {
   "cell_type": "code",
   "execution_count": 98,
   "metadata": {
    "collapsed": false
   },
   "outputs": [],
   "source": [
    "autos = pd.read_csv('autos.csv', encoding='latin1')"
   ]
  },
  {
   "cell_type": "code",
   "execution_count": 99,
   "metadata": {
    "collapsed": false
   },
   "outputs": [
    {
     "name": "stdout",
     "output_type": "stream",
     "text": [
      "           dateCrawled                                               name  \\\n",
      "0  2016-03-26 17:47:46                   Peugeot_807_160_NAVTECH_ON_BOARD   \n",
      "1  2016-04-04 13:38:56         BMW_740i_4_4_Liter_HAMANN_UMBAU_Mega_Optik   \n",
      "2  2016-03-26 18:57:24                         Volkswagen_Golf_1.6_United   \n",
      "3  2016-03-12 16:58:10  Smart_smart_fortwo_coupe_softouch/F1/Klima/Pan...   \n",
      "4  2016-04-01 14:38:50  Ford_Focus_1_6_Benzin_TÜV_neu_ist_sehr_gepfleg...   \n",
      "\n",
      "   seller offerType   price   abtest vehicleType  yearOfRegistration  \\\n",
      "0  privat   Angebot  $5,000  control         bus                2004   \n",
      "1  privat   Angebot  $8,500  control   limousine                1997   \n",
      "2  privat   Angebot  $8,990     test   limousine                2009   \n",
      "3  privat   Angebot  $4,350  control  kleinwagen                2007   \n",
      "4  privat   Angebot  $1,350     test       kombi                2003   \n",
      "\n",
      "     gearbox  powerPS   model   odometer  monthOfRegistration fuelType  \\\n",
      "0    manuell      158  andere  150,000km                    3      lpg   \n",
      "1  automatik      286     7er  150,000km                    6   benzin   \n",
      "2    manuell      102    golf   70,000km                    7   benzin   \n",
      "3  automatik       71  fortwo   70,000km                    6   benzin   \n",
      "4    manuell        0   focus  150,000km                    7   benzin   \n",
      "\n",
      "        brand notRepairedDamage          dateCreated  nrOfPictures  \\\n",
      "0     peugeot              nein  2016-03-26 00:00:00             0   \n",
      "1         bmw              nein  2016-04-04 00:00:00             0   \n",
      "2  volkswagen              nein  2016-03-26 00:00:00             0   \n",
      "3       smart              nein  2016-03-12 00:00:00             0   \n",
      "4        ford              nein  2016-04-01 00:00:00             0   \n",
      "\n",
      "   postalCode             lastSeen  \n",
      "0       79588  2016-04-06 06:45:54  \n",
      "1       71034  2016-04-06 14:45:08  \n",
      "2       35394  2016-04-06 20:15:37  \n",
      "3       33729  2016-03-15 03:16:28  \n",
      "4       39218  2016-04-01 14:38:50  \n",
      "<class 'pandas.core.frame.DataFrame'>\n",
      "RangeIndex: 50000 entries, 0 to 49999\n",
      "Data columns (total 20 columns):\n",
      "dateCrawled            50000 non-null object\n",
      "name                   50000 non-null object\n",
      "seller                 50000 non-null object\n",
      "offerType              50000 non-null object\n",
      "price                  50000 non-null object\n",
      "abtest                 50000 non-null object\n",
      "vehicleType            44905 non-null object\n",
      "yearOfRegistration     50000 non-null int64\n",
      "gearbox                47320 non-null object\n",
      "powerPS                50000 non-null int64\n",
      "model                  47242 non-null object\n",
      "odometer               50000 non-null object\n",
      "monthOfRegistration    50000 non-null int64\n",
      "fuelType               45518 non-null object\n",
      "brand                  50000 non-null object\n",
      "notRepairedDamage      40171 non-null object\n",
      "dateCreated            50000 non-null object\n",
      "nrOfPictures           50000 non-null int64\n",
      "postalCode             50000 non-null int64\n",
      "lastSeen               50000 non-null object\n",
      "dtypes: int64(5), object(15)\n",
      "memory usage: 7.6+ MB\n"
     ]
    }
   ],
   "source": [
    "print(autos.head())\n",
    "autos.info()"
   ]
  },
  {
   "cell_type": "markdown",
   "metadata": {},
   "source": [
    ">We can see that the name column will need ot be cleaned of extraneous characters to be better understood. Using info(), we can see that there are no columns with > 20% NaN values. However, we should explore columns which have a large percent of non-unique values.\n"
   ]
  },
  {
   "cell_type": "markdown",
   "metadata": {},
   "source": [
    "### Step 2: Data Cleaning "
   ]
  },
  {
   "cell_type": "code",
   "execution_count": 100,
   "metadata": {
    "collapsed": false
   },
   "outputs": [
    {
     "data": {
      "text/plain": [
       "Index(['dateCrawled', 'name', 'seller', 'offerType', 'price', 'abtest',\n",
       "       'vehicleType', 'yearOfRegistration', 'gearbox', 'powerPS', 'model',\n",
       "       'odometer', 'monthOfRegistration', 'fuelType', 'brand',\n",
       "       'notRepairedDamage', 'dateCreated', 'nrOfPictures', 'postalCode',\n",
       "       'lastSeen'],\n",
       "      dtype='object')"
      ]
     },
     "execution_count": 100,
     "metadata": {},
     "output_type": "execute_result"
    }
   ],
   "source": [
    "autos.columns"
   ]
  },
  {
   "cell_type": "code",
   "execution_count": 101,
   "metadata": {
    "collapsed": true
   },
   "outputs": [],
   "source": [
    "autos.columns = ['date_crawled', 'name', 'seller', 'offer_type', 'price', 'abtest',\n",
    "       'vehicle_type', 'registration_year', 'gearbox', 'powerPS', 'model',\n",
    "       'odometer', 'registration_month', 'fuel_type', 'brand',\n",
    "       'unrepaired_damage', 'ad_created', 'nr_of_pictures', 'postal_code',\n",
    "       'last_seen']"
   ]
  },
  {
   "cell_type": "markdown",
   "metadata": {},
   "source": [
    ">Changed the values in the autos.columns array to be snakecase, the prefered naming convention in Python."
   ]
  },
  {
   "cell_type": "code",
   "execution_count": 102,
   "metadata": {
    "collapsed": false
   },
   "outputs": [
    {
     "data": {
      "text/html": [
       "<div>\n",
       "<style scoped>\n",
       "    .dataframe tbody tr th:only-of-type {\n",
       "        vertical-align: middle;\n",
       "    }\n",
       "\n",
       "    .dataframe tbody tr th {\n",
       "        vertical-align: top;\n",
       "    }\n",
       "\n",
       "    .dataframe thead th {\n",
       "        text-align: right;\n",
       "    }\n",
       "</style>\n",
       "<table border=\"1\" class=\"dataframe\">\n",
       "  <thead>\n",
       "    <tr style=\"text-align: right;\">\n",
       "      <th></th>\n",
       "      <th>date_crawled</th>\n",
       "      <th>name</th>\n",
       "      <th>seller</th>\n",
       "      <th>offer_type</th>\n",
       "      <th>price</th>\n",
       "      <th>abtest</th>\n",
       "      <th>vehicle_type</th>\n",
       "      <th>registration_year</th>\n",
       "      <th>gearbox</th>\n",
       "      <th>powerPS</th>\n",
       "      <th>model</th>\n",
       "      <th>odometer</th>\n",
       "      <th>registration_month</th>\n",
       "      <th>fuel_type</th>\n",
       "      <th>brand</th>\n",
       "      <th>unrepaired_damage</th>\n",
       "      <th>ad_created</th>\n",
       "      <th>nr_of_pictures</th>\n",
       "      <th>postal_code</th>\n",
       "      <th>last_seen</th>\n",
       "    </tr>\n",
       "  </thead>\n",
       "  <tbody>\n",
       "    <tr>\n",
       "      <th>count</th>\n",
       "      <td>50000</td>\n",
       "      <td>50000</td>\n",
       "      <td>50000</td>\n",
       "      <td>50000</td>\n",
       "      <td>50000</td>\n",
       "      <td>50000</td>\n",
       "      <td>44905</td>\n",
       "      <td>50000.000000</td>\n",
       "      <td>47320</td>\n",
       "      <td>50000.000000</td>\n",
       "      <td>47242</td>\n",
       "      <td>50000</td>\n",
       "      <td>50000.000000</td>\n",
       "      <td>45518</td>\n",
       "      <td>50000</td>\n",
       "      <td>40171</td>\n",
       "      <td>50000</td>\n",
       "      <td>50000.0</td>\n",
       "      <td>50000.000000</td>\n",
       "      <td>50000</td>\n",
       "    </tr>\n",
       "    <tr>\n",
       "      <th>unique</th>\n",
       "      <td>48213</td>\n",
       "      <td>38754</td>\n",
       "      <td>2</td>\n",
       "      <td>2</td>\n",
       "      <td>2357</td>\n",
       "      <td>2</td>\n",
       "      <td>8</td>\n",
       "      <td>NaN</td>\n",
       "      <td>2</td>\n",
       "      <td>NaN</td>\n",
       "      <td>245</td>\n",
       "      <td>13</td>\n",
       "      <td>NaN</td>\n",
       "      <td>7</td>\n",
       "      <td>40</td>\n",
       "      <td>2</td>\n",
       "      <td>76</td>\n",
       "      <td>NaN</td>\n",
       "      <td>NaN</td>\n",
       "      <td>39481</td>\n",
       "    </tr>\n",
       "    <tr>\n",
       "      <th>top</th>\n",
       "      <td>2016-03-09 11:54:38</td>\n",
       "      <td>Ford_Fiesta</td>\n",
       "      <td>privat</td>\n",
       "      <td>Angebot</td>\n",
       "      <td>$0</td>\n",
       "      <td>test</td>\n",
       "      <td>limousine</td>\n",
       "      <td>NaN</td>\n",
       "      <td>manuell</td>\n",
       "      <td>NaN</td>\n",
       "      <td>golf</td>\n",
       "      <td>150,000km</td>\n",
       "      <td>NaN</td>\n",
       "      <td>benzin</td>\n",
       "      <td>volkswagen</td>\n",
       "      <td>nein</td>\n",
       "      <td>2016-04-03 00:00:00</td>\n",
       "      <td>NaN</td>\n",
       "      <td>NaN</td>\n",
       "      <td>2016-04-07 06:17:27</td>\n",
       "    </tr>\n",
       "    <tr>\n",
       "      <th>freq</th>\n",
       "      <td>3</td>\n",
       "      <td>78</td>\n",
       "      <td>49999</td>\n",
       "      <td>49999</td>\n",
       "      <td>1421</td>\n",
       "      <td>25756</td>\n",
       "      <td>12859</td>\n",
       "      <td>NaN</td>\n",
       "      <td>36993</td>\n",
       "      <td>NaN</td>\n",
       "      <td>4024</td>\n",
       "      <td>32424</td>\n",
       "      <td>NaN</td>\n",
       "      <td>30107</td>\n",
       "      <td>10687</td>\n",
       "      <td>35232</td>\n",
       "      <td>1946</td>\n",
       "      <td>NaN</td>\n",
       "      <td>NaN</td>\n",
       "      <td>8</td>\n",
       "    </tr>\n",
       "    <tr>\n",
       "      <th>mean</th>\n",
       "      <td>NaN</td>\n",
       "      <td>NaN</td>\n",
       "      <td>NaN</td>\n",
       "      <td>NaN</td>\n",
       "      <td>NaN</td>\n",
       "      <td>NaN</td>\n",
       "      <td>NaN</td>\n",
       "      <td>2005.073280</td>\n",
       "      <td>NaN</td>\n",
       "      <td>116.355920</td>\n",
       "      <td>NaN</td>\n",
       "      <td>NaN</td>\n",
       "      <td>5.723360</td>\n",
       "      <td>NaN</td>\n",
       "      <td>NaN</td>\n",
       "      <td>NaN</td>\n",
       "      <td>NaN</td>\n",
       "      <td>0.0</td>\n",
       "      <td>50813.627300</td>\n",
       "      <td>NaN</td>\n",
       "    </tr>\n",
       "    <tr>\n",
       "      <th>std</th>\n",
       "      <td>NaN</td>\n",
       "      <td>NaN</td>\n",
       "      <td>NaN</td>\n",
       "      <td>NaN</td>\n",
       "      <td>NaN</td>\n",
       "      <td>NaN</td>\n",
       "      <td>NaN</td>\n",
       "      <td>105.712813</td>\n",
       "      <td>NaN</td>\n",
       "      <td>209.216627</td>\n",
       "      <td>NaN</td>\n",
       "      <td>NaN</td>\n",
       "      <td>3.711984</td>\n",
       "      <td>NaN</td>\n",
       "      <td>NaN</td>\n",
       "      <td>NaN</td>\n",
       "      <td>NaN</td>\n",
       "      <td>0.0</td>\n",
       "      <td>25779.747957</td>\n",
       "      <td>NaN</td>\n",
       "    </tr>\n",
       "    <tr>\n",
       "      <th>min</th>\n",
       "      <td>NaN</td>\n",
       "      <td>NaN</td>\n",
       "      <td>NaN</td>\n",
       "      <td>NaN</td>\n",
       "      <td>NaN</td>\n",
       "      <td>NaN</td>\n",
       "      <td>NaN</td>\n",
       "      <td>1000.000000</td>\n",
       "      <td>NaN</td>\n",
       "      <td>0.000000</td>\n",
       "      <td>NaN</td>\n",
       "      <td>NaN</td>\n",
       "      <td>0.000000</td>\n",
       "      <td>NaN</td>\n",
       "      <td>NaN</td>\n",
       "      <td>NaN</td>\n",
       "      <td>NaN</td>\n",
       "      <td>0.0</td>\n",
       "      <td>1067.000000</td>\n",
       "      <td>NaN</td>\n",
       "    </tr>\n",
       "    <tr>\n",
       "      <th>25%</th>\n",
       "      <td>NaN</td>\n",
       "      <td>NaN</td>\n",
       "      <td>NaN</td>\n",
       "      <td>NaN</td>\n",
       "      <td>NaN</td>\n",
       "      <td>NaN</td>\n",
       "      <td>NaN</td>\n",
       "      <td>1999.000000</td>\n",
       "      <td>NaN</td>\n",
       "      <td>70.000000</td>\n",
       "      <td>NaN</td>\n",
       "      <td>NaN</td>\n",
       "      <td>3.000000</td>\n",
       "      <td>NaN</td>\n",
       "      <td>NaN</td>\n",
       "      <td>NaN</td>\n",
       "      <td>NaN</td>\n",
       "      <td>0.0</td>\n",
       "      <td>30451.000000</td>\n",
       "      <td>NaN</td>\n",
       "    </tr>\n",
       "    <tr>\n",
       "      <th>50%</th>\n",
       "      <td>NaN</td>\n",
       "      <td>NaN</td>\n",
       "      <td>NaN</td>\n",
       "      <td>NaN</td>\n",
       "      <td>NaN</td>\n",
       "      <td>NaN</td>\n",
       "      <td>NaN</td>\n",
       "      <td>2003.000000</td>\n",
       "      <td>NaN</td>\n",
       "      <td>105.000000</td>\n",
       "      <td>NaN</td>\n",
       "      <td>NaN</td>\n",
       "      <td>6.000000</td>\n",
       "      <td>NaN</td>\n",
       "      <td>NaN</td>\n",
       "      <td>NaN</td>\n",
       "      <td>NaN</td>\n",
       "      <td>0.0</td>\n",
       "      <td>49577.000000</td>\n",
       "      <td>NaN</td>\n",
       "    </tr>\n",
       "    <tr>\n",
       "      <th>75%</th>\n",
       "      <td>NaN</td>\n",
       "      <td>NaN</td>\n",
       "      <td>NaN</td>\n",
       "      <td>NaN</td>\n",
       "      <td>NaN</td>\n",
       "      <td>NaN</td>\n",
       "      <td>NaN</td>\n",
       "      <td>2008.000000</td>\n",
       "      <td>NaN</td>\n",
       "      <td>150.000000</td>\n",
       "      <td>NaN</td>\n",
       "      <td>NaN</td>\n",
       "      <td>9.000000</td>\n",
       "      <td>NaN</td>\n",
       "      <td>NaN</td>\n",
       "      <td>NaN</td>\n",
       "      <td>NaN</td>\n",
       "      <td>0.0</td>\n",
       "      <td>71540.000000</td>\n",
       "      <td>NaN</td>\n",
       "    </tr>\n",
       "    <tr>\n",
       "      <th>max</th>\n",
       "      <td>NaN</td>\n",
       "      <td>NaN</td>\n",
       "      <td>NaN</td>\n",
       "      <td>NaN</td>\n",
       "      <td>NaN</td>\n",
       "      <td>NaN</td>\n",
       "      <td>NaN</td>\n",
       "      <td>9999.000000</td>\n",
       "      <td>NaN</td>\n",
       "      <td>17700.000000</td>\n",
       "      <td>NaN</td>\n",
       "      <td>NaN</td>\n",
       "      <td>12.000000</td>\n",
       "      <td>NaN</td>\n",
       "      <td>NaN</td>\n",
       "      <td>NaN</td>\n",
       "      <td>NaN</td>\n",
       "      <td>0.0</td>\n",
       "      <td>99998.000000</td>\n",
       "      <td>NaN</td>\n",
       "    </tr>\n",
       "  </tbody>\n",
       "</table>\n",
       "</div>"
      ],
      "text/plain": [
       "               date_crawled         name  seller offer_type  price abtest  \\\n",
       "count                 50000        50000   50000      50000  50000  50000   \n",
       "unique                48213        38754       2          2   2357      2   \n",
       "top     2016-03-09 11:54:38  Ford_Fiesta  privat    Angebot     $0   test   \n",
       "freq                      3           78   49999      49999   1421  25756   \n",
       "mean                    NaN          NaN     NaN        NaN    NaN    NaN   \n",
       "std                     NaN          NaN     NaN        NaN    NaN    NaN   \n",
       "min                     NaN          NaN     NaN        NaN    NaN    NaN   \n",
       "25%                     NaN          NaN     NaN        NaN    NaN    NaN   \n",
       "50%                     NaN          NaN     NaN        NaN    NaN    NaN   \n",
       "75%                     NaN          NaN     NaN        NaN    NaN    NaN   \n",
       "max                     NaN          NaN     NaN        NaN    NaN    NaN   \n",
       "\n",
       "       vehicle_type  registration_year  gearbox       powerPS  model  \\\n",
       "count         44905       50000.000000    47320  50000.000000  47242   \n",
       "unique            8                NaN        2           NaN    245   \n",
       "top       limousine                NaN  manuell           NaN   golf   \n",
       "freq          12859                NaN    36993           NaN   4024   \n",
       "mean            NaN        2005.073280      NaN    116.355920    NaN   \n",
       "std             NaN         105.712813      NaN    209.216627    NaN   \n",
       "min             NaN        1000.000000      NaN      0.000000    NaN   \n",
       "25%             NaN        1999.000000      NaN     70.000000    NaN   \n",
       "50%             NaN        2003.000000      NaN    105.000000    NaN   \n",
       "75%             NaN        2008.000000      NaN    150.000000    NaN   \n",
       "max             NaN        9999.000000      NaN  17700.000000    NaN   \n",
       "\n",
       "         odometer  registration_month fuel_type       brand unrepaired_damage  \\\n",
       "count       50000        50000.000000     45518       50000             40171   \n",
       "unique         13                 NaN         7          40                 2   \n",
       "top     150,000km                 NaN    benzin  volkswagen              nein   \n",
       "freq        32424                 NaN     30107       10687             35232   \n",
       "mean          NaN            5.723360       NaN         NaN               NaN   \n",
       "std           NaN            3.711984       NaN         NaN               NaN   \n",
       "min           NaN            0.000000       NaN         NaN               NaN   \n",
       "25%           NaN            3.000000       NaN         NaN               NaN   \n",
       "50%           NaN            6.000000       NaN         NaN               NaN   \n",
       "75%           NaN            9.000000       NaN         NaN               NaN   \n",
       "max           NaN           12.000000       NaN         NaN               NaN   \n",
       "\n",
       "                 ad_created  nr_of_pictures   postal_code            last_seen  \n",
       "count                 50000         50000.0  50000.000000                50000  \n",
       "unique                   76             NaN           NaN                39481  \n",
       "top     2016-04-03 00:00:00             NaN           NaN  2016-04-07 06:17:27  \n",
       "freq                   1946             NaN           NaN                    8  \n",
       "mean                    NaN             0.0  50813.627300                  NaN  \n",
       "std                     NaN             0.0  25779.747957                  NaN  \n",
       "min                     NaN             0.0   1067.000000                  NaN  \n",
       "25%                     NaN             0.0  30451.000000                  NaN  \n",
       "50%                     NaN             0.0  49577.000000                  NaN  \n",
       "75%                     NaN             0.0  71540.000000                  NaN  \n",
       "max                     NaN             0.0  99998.000000                  NaN  "
      ]
     },
     "execution_count": 102,
     "metadata": {},
     "output_type": "execute_result"
    }
   ],
   "source": [
    "autos.describe(include = 'all')\n"
   ]
  },
  {
   "cell_type": "markdown",
   "metadata": {},
   "source": [
    ">From the dataframe, we conclude that the odometerand price columns are stored as strings which we will need to convert to int values. Aditionally, there are columns such as \"seller\" and \"offer_type\" that can be removed since almost all entries are the same."
   ]
  },
  {
   "cell_type": "code",
   "execution_count": 103,
   "metadata": {
    "collapsed": false
   },
   "outputs": [],
   "source": [
    "autos = autos.drop(\"seller\", axis=1).drop(\"offer_type\", axis=1)"
   ]
  },
  {
   "cell_type": "markdown",
   "metadata": {},
   "source": [
    "> Dropped columns where > 90% of the values are the same."
   ]
  },
  {
   "cell_type": "code",
   "execution_count": 104,
   "metadata": {
    "collapsed": false
   },
   "outputs": [],
   "source": [
    "autos[\"price\"] = autos[\"price\"].str.replace(\"$\",\"\").str.replace(\",\",\"\").astype(float)"
   ]
  },
  {
   "cell_type": "code",
   "execution_count": 105,
   "metadata": {
    "collapsed": false
   },
   "outputs": [],
   "source": [
    "autos[\"odometer\"] = autos[\"odometer\"].str.replace(\"km\",\"\").str.replace(\",\",\"\").astype(float)   \n",
    "autos.rename({'odometer': 'odometer_km'}, axis=1, inplace=True)"
   ]
  },
  {
   "cell_type": "markdown",
   "metadata": {},
   "source": [
    "> Converted \"price\" and \"odometer\" columns to float types. Also, renamed \"odometer\" to identify measurement system."
   ]
  },
  {
   "cell_type": "code",
   "execution_count": 106,
   "metadata": {
    "collapsed": false
   },
   "outputs": [
    {
     "name": "stdout",
     "output_type": "stream",
     "text": [
      "(13,)\n",
      "count     50000.000000\n",
      "mean     125732.700000\n",
      "std       40042.211706\n",
      "min        5000.000000\n",
      "25%      125000.000000\n",
      "50%      150000.000000\n",
      "75%      150000.000000\n",
      "max      150000.000000\n",
      "Name: odometer_km, dtype: float64\n"
     ]
    },
    {
     "data": {
      "text/plain": [
       "150000.0    32424\n",
       "125000.0     5170\n",
       "100000.0     2169\n",
       "90000.0      1757\n",
       "80000.0      1436\n",
       "70000.0      1230\n",
       "60000.0      1164\n",
       "50000.0      1027\n",
       "5000.0        967\n",
       "40000.0       819\n",
       "30000.0       789\n",
       "20000.0       784\n",
       "10000.0       264\n",
       "Name: odometer_km, dtype: int64"
      ]
     },
     "execution_count": 106,
     "metadata": {},
     "output_type": "execute_result"
    }
   ],
   "source": [
    "odo_vals = autos[\"odometer_km\"]\n",
    "print(odo_vals.unique().shape)\n",
    "print(odo_vals.describe())\n",
    "odo_vals.value_counts()"
   ]
  },
  {
   "cell_type": "markdown",
   "metadata": {},
   "source": [
    "> There are no obvious outlier values to be removed from odo_vals since all values appear to meaningful"
   ]
  },
  {
   "cell_type": "code",
   "execution_count": 107,
   "metadata": {
    "collapsed": false
   },
   "outputs": [
    {
     "name": "stdout",
     "output_type": "stream",
     "text": [
      "count    5.000000e+04\n",
      "mean     9.840044e+03\n",
      "std      4.811044e+05\n",
      "min      0.000000e+00\n",
      "25%      1.100000e+03\n",
      "50%      2.950000e+03\n",
      "75%      7.200000e+03\n",
      "max      1.000000e+08\n",
      "Name: price, dtype: float64\n",
      "99999999.0       1\n",
      "27322222.0       1\n",
      "12345678.0       3\n",
      "11111111.0       2\n",
      "10000000.0       1\n",
      "3890000.0        1\n",
      "1300000.0        1\n",
      "1234566.0        1\n",
      "999999.0         2\n",
      "999990.0         1\n",
      "350000.0         1\n",
      "345000.0         1\n",
      "299000.0         1\n",
      "295000.0         1\n",
      "265000.0         1\n",
      "259000.0         1\n",
      "250000.0         1\n",
      "220000.0         1\n",
      "198000.0         1\n",
      "197000.0         1\n",
      "194000.0         1\n",
      "190000.0         1\n",
      "180000.0         1\n",
      "175000.0         1\n",
      "169999.0         1\n",
      "169000.0         1\n",
      "163991.0         1\n",
      "163500.0         1\n",
      "155000.0         1\n",
      "151990.0         1\n",
      "              ... \n",
      "66.0             1\n",
      "65.0             5\n",
      "60.0             9\n",
      "59.0             1\n",
      "55.0             2\n",
      "50.0            49\n",
      "49.0             4\n",
      "47.0             1\n",
      "45.0             4\n",
      "40.0             6\n",
      "35.0             1\n",
      "30.0             7\n",
      "29.0             1\n",
      "25.0             5\n",
      "20.0             4\n",
      "18.0             1\n",
      "17.0             3\n",
      "15.0             2\n",
      "14.0             1\n",
      "13.0             2\n",
      "12.0             3\n",
      "11.0             2\n",
      "10.0             7\n",
      "9.0              1\n",
      "8.0              1\n",
      "5.0              2\n",
      "3.0              1\n",
      "2.0              3\n",
      "1.0            156\n",
      "0.0           1421\n",
      "Name: price, Length: 2357, dtype: int64\n",
      "True     49861\n",
      "False      139\n",
      "Name: price, dtype: int64\n"
     ]
    }
   ],
   "source": [
    "pr = autos[\"price\"]\n",
    "pr_5 = autos[\"price\"] < 60000\n",
    "print(pr.describe())\n",
    "print(pr.value_counts().sort_index(ascending=False))\n",
    "print(pr_5.value_counts())"
   ]
  },
  {
   "cell_type": "code",
   "execution_count": 108,
   "metadata": {
    "collapsed": true
   },
   "outputs": [],
   "source": [
    "autos = autos[autos['price'].between(100, 100001)]"
   ]
  },
  {
   "cell_type": "markdown",
   "metadata": {},
   "source": [
    ">The price column has around 2,000 distinct values. We removed any prices that were unrealistically high i.e. anything above 100,000. We can also remove any entries below 100 since anything below is likely not reflective of the actual cost."
   ]
  },
  {
   "cell_type": "code",
   "execution_count": 109,
   "metadata": {
    "collapsed": false
   },
   "outputs": [
    {
     "data": {
      "text/html": [
       "<div>\n",
       "<style scoped>\n",
       "    .dataframe tbody tr th:only-of-type {\n",
       "        vertical-align: middle;\n",
       "    }\n",
       "\n",
       "    .dataframe tbody tr th {\n",
       "        vertical-align: top;\n",
       "    }\n",
       "\n",
       "    .dataframe thead th {\n",
       "        text-align: right;\n",
       "    }\n",
       "</style>\n",
       "<table border=\"1\" class=\"dataframe\">\n",
       "  <thead>\n",
       "    <tr style=\"text-align: right;\">\n",
       "      <th></th>\n",
       "      <th>price</th>\n",
       "      <th>registration_year</th>\n",
       "      <th>powerPS</th>\n",
       "      <th>odometer_km</th>\n",
       "      <th>registration_month</th>\n",
       "      <th>nr_of_pictures</th>\n",
       "      <th>postal_code</th>\n",
       "    </tr>\n",
       "  </thead>\n",
       "  <tbody>\n",
       "    <tr>\n",
       "      <th>count</th>\n",
       "      <td>48185.000000</td>\n",
       "      <td>48185.000000</td>\n",
       "      <td>48185.000000</td>\n",
       "      <td>48185.000000</td>\n",
       "      <td>48185.000000</td>\n",
       "      <td>48185.0</td>\n",
       "      <td>48185.000000</td>\n",
       "    </tr>\n",
       "    <tr>\n",
       "      <th>mean</th>\n",
       "      <td>5796.099741</td>\n",
       "      <td>2004.730456</td>\n",
       "      <td>117.466328</td>\n",
       "      <td>125986.717858</td>\n",
       "      <td>5.802096</td>\n",
       "      <td>0.0</td>\n",
       "      <td>50981.043976</td>\n",
       "    </tr>\n",
       "    <tr>\n",
       "      <th>std</th>\n",
       "      <td>7525.532405</td>\n",
       "      <td>87.932039</td>\n",
       "      <td>201.096878</td>\n",
       "      <td>39467.457150</td>\n",
       "      <td>3.677562</td>\n",
       "      <td>0.0</td>\n",
       "      <td>25737.305695</td>\n",
       "    </tr>\n",
       "    <tr>\n",
       "      <th>min</th>\n",
       "      <td>100.000000</td>\n",
       "      <td>1000.000000</td>\n",
       "      <td>0.000000</td>\n",
       "      <td>5000.000000</td>\n",
       "      <td>0.000000</td>\n",
       "      <td>0.0</td>\n",
       "      <td>1067.000000</td>\n",
       "    </tr>\n",
       "    <tr>\n",
       "      <th>25%</th>\n",
       "      <td>1250.000000</td>\n",
       "      <td>1999.000000</td>\n",
       "      <td>73.000000</td>\n",
       "      <td>125000.000000</td>\n",
       "      <td>3.000000</td>\n",
       "      <td>0.0</td>\n",
       "      <td>30659.000000</td>\n",
       "    </tr>\n",
       "    <tr>\n",
       "      <th>50%</th>\n",
       "      <td>3000.000000</td>\n",
       "      <td>2004.000000</td>\n",
       "      <td>107.000000</td>\n",
       "      <td>150000.000000</td>\n",
       "      <td>6.000000</td>\n",
       "      <td>0.0</td>\n",
       "      <td>49716.000000</td>\n",
       "    </tr>\n",
       "    <tr>\n",
       "      <th>75%</th>\n",
       "      <td>7499.000000</td>\n",
       "      <td>2008.000000</td>\n",
       "      <td>150.000000</td>\n",
       "      <td>150000.000000</td>\n",
       "      <td>9.000000</td>\n",
       "      <td>0.0</td>\n",
       "      <td>71665.000000</td>\n",
       "    </tr>\n",
       "    <tr>\n",
       "      <th>max</th>\n",
       "      <td>99900.000000</td>\n",
       "      <td>9999.000000</td>\n",
       "      <td>17700.000000</td>\n",
       "      <td>150000.000000</td>\n",
       "      <td>12.000000</td>\n",
       "      <td>0.0</td>\n",
       "      <td>99998.000000</td>\n",
       "    </tr>\n",
       "  </tbody>\n",
       "</table>\n",
       "</div>"
      ],
      "text/plain": [
       "              price  registration_year       powerPS    odometer_km  \\\n",
       "count  48185.000000       48185.000000  48185.000000   48185.000000   \n",
       "mean    5796.099741        2004.730456    117.466328  125986.717858   \n",
       "std     7525.532405          87.932039    201.096878   39467.457150   \n",
       "min      100.000000        1000.000000      0.000000    5000.000000   \n",
       "25%     1250.000000        1999.000000     73.000000  125000.000000   \n",
       "50%     3000.000000        2004.000000    107.000000  150000.000000   \n",
       "75%     7499.000000        2008.000000    150.000000  150000.000000   \n",
       "max    99900.000000        9999.000000  17700.000000  150000.000000   \n",
       "\n",
       "       registration_month  nr_of_pictures   postal_code  \n",
       "count        48185.000000         48185.0  48185.000000  \n",
       "mean             5.802096             0.0  50981.043976  \n",
       "std              3.677562             0.0  25737.305695  \n",
       "min              0.000000             0.0   1067.000000  \n",
       "25%              3.000000             0.0  30659.000000  \n",
       "50%              6.000000             0.0  49716.000000  \n",
       "75%              9.000000             0.0  71665.000000  \n",
       "max             12.000000             0.0  99998.000000  "
      ]
     },
     "execution_count": 109,
     "metadata": {},
     "output_type": "execute_result"
    }
   ],
   "source": [
    "autos.describe()"
   ]
  },
  {
   "cell_type": "markdown",
   "metadata": {},
   "source": [
    "> After removing outlier values, we can better understand the prices. The average cost now seems to be around 5,000."
   ]
  },
  {
   "cell_type": "markdown",
   "metadata": {},
   "source": [
    "#### Observations about date ranges: "
   ]
  },
  {
   "cell_type": "code",
   "execution_count": 110,
   "metadata": {
    "collapsed": false
   },
   "outputs": [
    {
     "name": "stdout",
     "output_type": "stream",
     "text": [
      "2016-04-07    0.001390\n",
      "2016-04-06    0.003175\n",
      "2016-04-05    0.013054\n",
      "2016-04-04    0.036567\n",
      "2016-04-03    0.038601\n",
      "2016-04-02    0.035633\n",
      "2016-04-01    0.033662\n",
      "2016-03-31    0.031856\n",
      "2016-03-30    0.033703\n",
      "2016-03-29    0.034139\n",
      "2016-03-28    0.034949\n",
      "2016-03-27    0.031109\n",
      "2016-03-26    0.032292\n",
      "2016-03-25    0.031504\n",
      "2016-03-24    0.029449\n",
      "2016-03-23    0.032292\n",
      "2016-03-22    0.032811\n",
      "2016-03-21    0.037190\n",
      "2016-03-20    0.037813\n",
      "2016-03-19    0.034762\n",
      "2016-03-18    0.012867\n",
      "2016-03-17    0.031504\n",
      "2016-03-16    0.029470\n",
      "2016-03-15    0.034305\n",
      "2016-03-14    0.036692\n",
      "2016-03-13    0.015690\n",
      "2016-03-12    0.036920\n",
      "2016-03-11    0.032624\n",
      "2016-03-10    0.032313\n",
      "2016-03-09    0.033019\n",
      "2016-03-08    0.033164\n",
      "2016-03-07    0.036090\n",
      "2016-03-06    0.014050\n",
      "2016-03-05    0.025340\n",
      "Name: date_crawled, dtype: float64\n"
     ]
    }
   ],
   "source": [
    "print(autos[\"date_crawled\"].str[:10].value_counts(normalize=True, dropna=False).sort_index(ascending=False))"
   ]
  },
  {
   "cell_type": "code",
   "execution_count": 111,
   "metadata": {
    "collapsed": false
   },
   "outputs": [
    {
     "name": "stdout",
     "output_type": "stream",
     "text": [
      "2016-04-07    0.001245\n",
      "2016-04-06    0.003258\n",
      "2016-04-05    0.011788\n",
      "2016-04-04    0.036920\n",
      "2016-04-03    0.038850\n",
      "2016-04-02    0.035322\n",
      "2016-04-01    0.033641\n",
      "2016-03-31    0.031898\n",
      "2016-03-30    0.033537\n",
      "2016-03-29    0.034077\n",
      "2016-03-28    0.035052\n",
      "2016-03-27    0.031026\n",
      "2016-03-26    0.032354\n",
      "2016-03-25    0.031628\n",
      "2016-03-24    0.029387\n",
      "2016-03-23    0.032126\n",
      "2016-03-22    0.032624\n",
      "2016-03-21    0.037418\n",
      "2016-03-20    0.037875\n",
      "2016-03-19    0.033641\n",
      "2016-03-18    0.013573\n",
      "2016-03-17    0.031151\n",
      "2016-03-16    0.029968\n",
      "2016-03-15    0.034035\n",
      "2016-03-14    0.035322\n",
      "2016-03-13    0.017059\n",
      "2016-03-12    0.036754\n",
      "2016-03-11    0.032936\n",
      "2016-03-10    0.032022\n",
      "2016-03-09    0.033122\n",
      "                ...   \n",
      "2016-02-21    0.000062\n",
      "2016-02-20    0.000042\n",
      "2016-02-19    0.000062\n",
      "2016-02-18    0.000042\n",
      "2016-02-17    0.000021\n",
      "2016-02-16    0.000021\n",
      "2016-02-14    0.000042\n",
      "2016-02-12    0.000042\n",
      "2016-02-11    0.000021\n",
      "2016-02-09    0.000021\n",
      "2016-02-08    0.000021\n",
      "2016-02-07    0.000021\n",
      "2016-02-05    0.000042\n",
      "2016-02-02    0.000042\n",
      "2016-02-01    0.000021\n",
      "2016-01-29    0.000021\n",
      "2016-01-27    0.000062\n",
      "2016-01-22    0.000021\n",
      "2016-01-16    0.000021\n",
      "2016-01-14    0.000021\n",
      "2016-01-13    0.000021\n",
      "2016-01-10    0.000042\n",
      "2016-01-07    0.000021\n",
      "2016-01-03    0.000021\n",
      "2015-12-30    0.000021\n",
      "2015-12-05    0.000021\n",
      "2015-11-10    0.000021\n",
      "2015-09-09    0.000021\n",
      "2015-08-10    0.000021\n",
      "2015-06-11    0.000021\n",
      "Name: ad_created, Length: 76, dtype: float64\n"
     ]
    }
   ],
   "source": [
    "print(autos[\"ad_created\"].str[:10].value_counts(normalize=True, dropna=False).sort_index(ascending=False))"
   ]
  },
  {
   "cell_type": "code",
   "execution_count": 112,
   "metadata": {
    "collapsed": false
   },
   "outputs": [
    {
     "name": "stdout",
     "output_type": "stream",
     "text": [
      "2016-04-07    0.132137\n",
      "2016-04-06    0.221999\n",
      "2016-04-05    0.124935\n",
      "2016-04-04    0.024551\n",
      "2016-04-03    0.025132\n",
      "2016-04-02    0.024883\n",
      "2016-04-01    0.022870\n",
      "2016-03-31    0.023846\n",
      "2016-03-30    0.024717\n",
      "2016-03-29    0.022310\n",
      "2016-03-28    0.020836\n",
      "2016-03-27    0.015544\n",
      "2016-03-26    0.016623\n",
      "2016-03-25    0.019114\n",
      "2016-03-24    0.019736\n",
      "2016-03-23    0.018574\n",
      "2016-03-22    0.021376\n",
      "2016-03-21    0.020546\n",
      "2016-03-20    0.020650\n",
      "2016-03-19    0.015773\n",
      "2016-03-18    0.007305\n",
      "2016-03-17    0.028121\n",
      "2016-03-16    0.016437\n",
      "2016-03-15    0.015876\n",
      "2016-03-14    0.012639\n",
      "2016-03-13    0.008882\n",
      "2016-03-12    0.023804\n",
      "2016-03-11    0.012411\n",
      "2016-03-10    0.010646\n",
      "2016-03-09    0.009567\n",
      "2016-03-08    0.007326\n",
      "2016-03-07    0.005437\n",
      "2016-03-06    0.004317\n",
      "2016-03-05    0.001079\n",
      "Name: last_seen, dtype: float64\n"
     ]
    }
   ],
   "source": [
    "print(autos[\"last_seen\"].str[:10].value_counts(normalize=True, dropna=False).sort_index(ascending=False))"
   ]
  },
  {
   "cell_type": "markdown",
   "metadata": {},
   "source": [
    "> We can see that \"date_crawled\" and \"last_seen\" have a smaller date range since they describe more recent occurences. In contrast, \"ad_created\" has a much larger range."
   ]
  },
  {
   "cell_type": "code",
   "execution_count": 113,
   "metadata": {
    "collapsed": false
   },
   "outputs": [
    {
     "name": "stdout",
     "output_type": "stream",
     "text": [
      "count    48185.000000\n",
      "mean      2004.730456\n",
      "std         87.932039\n",
      "min       1000.000000\n",
      "25%       1999.000000\n",
      "50%       2004.000000\n",
      "75%       2008.000000\n",
      "max       9999.000000\n",
      "Name: registration_year, dtype: float64\n"
     ]
    },
    {
     "data": {
      "text/plain": [
       "9999       3\n",
       "9000       1\n",
       "8888       1\n",
       "6200       1\n",
       "5911       1\n",
       "5000       3\n",
       "4800       1\n",
       "4500       1\n",
       "4100       1\n",
       "2800       1\n",
       "2019       2\n",
       "2018     468\n",
       "2017    1383\n",
       "2016    1196\n",
       "2015     376\n",
       "2014     660\n",
       "2013     797\n",
       "2012    1305\n",
       "2011    1617\n",
       "2010    1583\n",
       "Name: registration_year, dtype: int64"
      ]
     },
     "execution_count": 113,
     "metadata": {},
     "output_type": "execute_result"
    }
   ],
   "source": [
    "print(autos[\"registration_year\"].describe())\n",
    "autos[\"registration_year\"].value_counts().sort_index(ascending=False).head(20)"
   ]
  },
  {
   "cell_type": "markdown",
   "metadata": {},
   "source": [
    "> The registration year column has some outlier values (> 2020) which we will need to investigate."
   ]
  },
  {
   "cell_type": "code",
   "execution_count": 114,
   "metadata": {
    "collapsed": false
   },
   "outputs": [
    {
     "name": "stdout",
     "output_type": "stream",
     "text": [
      "True      1276\n",
      "False    46909\n",
      "Name: registration_year, dtype: int64\n"
     ]
    },
    {
     "data": {
      "text/plain": [
       "True      1867\n",
       "False    46318\n",
       "Name: registration_year, dtype: int64"
      ]
     },
     "execution_count": 114,
     "metadata": {},
     "output_type": "execute_result"
    }
   ],
   "source": [
    "aut1 = autos[\"registration_year\"] < 1990\n",
    "aut2 = autos[\"registration_year\"] > 2016\n",
    "print(aut1.value_counts().sort_index(ascending=False))\n",
    "aut2.value_counts().sort_index(ascending=False)"
   ]
  },
  {
   "cell_type": "markdown",
   "metadata": {},
   "source": [
    "> Since there are very few values outside of the range 1990-2016, it is safe for our analysis to continue within this range."
   ]
  },
  {
   "cell_type": "code",
   "execution_count": 115,
   "metadata": {
    "collapsed": false
   },
   "outputs": [
    {
     "data": {
      "text/plain": [
       "2000    0.066839\n",
       "2005    0.062703\n",
       "1999    0.062014\n",
       "2004    0.058137\n",
       "2003    0.058008\n",
       "2006    0.057469\n",
       "2001    0.056607\n",
       "2002    0.053355\n",
       "1998    0.050339\n",
       "2007    0.048939\n",
       "2008    0.047561\n",
       "2009    0.044803\n",
       "1997    0.041443\n",
       "2011    0.034830\n",
       "2010    0.034098\n",
       "2017    0.029790\n",
       "1996    0.029187\n",
       "2012    0.028110\n",
       "2016    0.025762\n",
       "1995    0.025676\n",
       "2013    0.017167\n",
       "2014    0.014216\n",
       "1994    0.013484\n",
       "1993    0.009047\n",
       "2015    0.008099\n",
       "1992    0.007884\n",
       "1991    0.007281\n",
       "1990    0.007151\n",
       "Name: registration_year, dtype: float64"
      ]
     },
     "execution_count": 115,
     "metadata": {},
     "output_type": "execute_result"
    }
   ],
   "source": [
    "autos = autos[autos[\"registration_year\"].between(1990, 2017)]\n",
    "autos[\"registration_year\"].value_counts(normalize=True)"
   ]
  },
  {
   "cell_type": "markdown",
   "metadata": {},
   "source": [
    ">Within this range, the percentage values are more significant and will give us an ccurate depiction of the registration years."
   ]
  },
  {
   "cell_type": "markdown",
   "metadata": {},
   "source": [
    "#### Aggregation for \"brand\" column:"
   ]
  },
  {
   "cell_type": "code",
   "execution_count": 116,
   "metadata": {
    "collapsed": false
   },
   "outputs": [
    {
     "data": {
      "text/plain": [
       "volkswagen        0.212579\n",
       "bmw               0.110005\n",
       "opel              0.109273\n",
       "mercedes_benz     0.093463\n",
       "audi              0.087668\n",
       "ford              0.069919\n",
       "renault           0.048638\n",
       "peugeot           0.030415\n",
       "fiat              0.025827\n",
       "seat              0.019128\n",
       "skoda             0.016521\n",
       "nissan            0.015617\n",
       "mazda             0.015617\n",
       "smart             0.014733\n",
       "citroen           0.014173\n",
       "toyota            0.012903\n",
       "hyundai           0.010253\n",
       "mini              0.008896\n",
       "volvo             0.008875\n",
       "mitsubishi        0.008293\n",
       "honda             0.007948\n",
       "kia               0.007324\n",
       "sonstige_autos    0.006634\n",
       "alfa_romeo        0.006419\n",
       "suzuki            0.005988\n",
       "chevrolet         0.005105\n",
       "porsche           0.004739\n",
       "chrysler          0.003511\n",
       "dacia             0.002757\n",
       "daihatsu          0.002542\n",
       "jeep              0.002219\n",
       "land_rover        0.002046\n",
       "subaru            0.002046\n",
       "daewoo            0.001594\n",
       "saab              0.001594\n",
       "jaguar            0.001465\n",
       "rover             0.001400\n",
       "lancia            0.001099\n",
       "lada              0.000474\n",
       "trabant           0.000302\n",
       "Name: brand, dtype: float64"
      ]
     },
     "execution_count": 116,
     "metadata": {},
     "output_type": "execute_result"
    }
   ],
   "source": [
    "\n",
    "autos['brand'].value_counts(normalize=True).sort_values(ascending=False)"
   ]
  },
  {
   "cell_type": "code",
   "execution_count": 117,
   "metadata": {
    "collapsed": false
   },
   "outputs": [
    {
     "data": {
      "text/plain": [
       "{'audi': 9324.986732186731,\n",
       " 'bmw': 8227.933033091835,\n",
       " 'citroen': 3658.6854103343467,\n",
       " 'fiat': 2707.7714762301916,\n",
       " 'ford': 3464.3006777572396,\n",
       " 'hyundai': 5402.913865546218,\n",
       " 'mazda': 4100.328275862069,\n",
       " 'mercedes_benz': 8437.830145194745,\n",
       " 'mini': 10616.142857142857,\n",
       " 'mitsubishi': 3428.2077922077924,\n",
       " 'nissan': 4705.1406896551725,\n",
       " 'opel': 2961.440567711413,\n",
       " 'peugeot': 3085.2634560906517,\n",
       " 'renault': 2409.066873339238,\n",
       " 'seat': 4388.873873873874,\n",
       " 'skoda': 6407.966101694915,\n",
       " 'smart': 3550.3055555555557,\n",
       " 'toyota': 5151.639398998331,\n",
       " 'volkswagen': 5379.343702502786,\n",
       " 'volvo': 4843.0}"
      ]
     },
     "execution_count": 117,
     "metadata": {},
     "output_type": "execute_result"
    }
   ],
   "source": [
    "brands = autos['brand'].value_counts(normalize=True).sort_values(ascending=False)[0:20].index\n",
    "price_by_brand = {}\n",
    "\n",
    "for brand in brands:\n",
    "    price_mean = autos.loc[autos['brand'] == brand, 'price'].mean()\n",
    "    price_by_brand[brand] = price_mean\n",
    "    \n",
    "price_by_brand\n",
    "    "
   ]
  },
  {
   "cell_type": "markdown",
   "metadata": {},
   "source": [
    "> Chose to aggregate by the top 20 values in the column to gain price insights about the more popoular brands."
   ]
  },
  {
   "cell_type": "code",
   "execution_count": 118,
   "metadata": {
    "collapsed": false
   },
   "outputs": [
    {
     "data": {
      "text/plain": [
       "{'audi': 129379.60687960689,\n",
       " 'bmw': 132944.97748188762,\n",
       " 'citroen': 120562.31003039514,\n",
       " 'fiat': 118356.96413678065,\n",
       " 'ford': 125275.72396796057,\n",
       " 'hyundai': 107058.82352941176,\n",
       " 'mazda': 124841.37931034483,\n",
       " 'mercedes_benz': 131274.48720903433,\n",
       " 'mini': 89261.50121065375,\n",
       " 'mitsubishi': 127207.79220779221,\n",
       " 'nissan': 118496.55172413793,\n",
       " 'opel': 130012.81293120442,\n",
       " 'peugeot': 127330.0283286119,\n",
       " 'renault': 128523.02922940656,\n",
       " 'seat': 122015.76576576577,\n",
       " 'skoda': 111355.93220338984,\n",
       " 'smart': 100562.86549707603,\n",
       " 'toyota': 116227.0450751252,\n",
       " 'volkswagen': 129409.2613233357,\n",
       " 'volvo': 139890.7766990291}"
      ]
     },
     "execution_count": 118,
     "metadata": {},
     "output_type": "execute_result"
    }
   ],
   "source": [
    "mileage_by_brand = {}\n",
    "\n",
    "for brand in brands:\n",
    "    mileage_mean = autos.loc[autos['brand'] == brand, 'odometer_km'].mean()\n",
    "    mileage_by_brand[brand] = mileage_mean\n",
    "    \n",
    "mileage_by_brand"
   ]
  },
  {
   "cell_type": "markdown",
   "metadata": {},
   "source": [
    "> Now, look into the mean mileage values for each of the top 20 brands. "
   ]
  },
  {
   "cell_type": "markdown",
   "metadata": {},
   "source": [
    "#### Creating a summary Dataframe: "
   ]
  },
  {
   "cell_type": "code",
   "execution_count": 119,
   "metadata": {
    "collapsed": false
   },
   "outputs": [
    {
     "data": {
      "text/html": [
       "<div>\n",
       "<style scoped>\n",
       "    .dataframe tbody tr th:only-of-type {\n",
       "        vertical-align: middle;\n",
       "    }\n",
       "\n",
       "    .dataframe tbody tr th {\n",
       "        vertical-align: top;\n",
       "    }\n",
       "\n",
       "    .dataframe thead th {\n",
       "        text-align: right;\n",
       "    }\n",
       "</style>\n",
       "<table border=\"1\" class=\"dataframe\">\n",
       "  <thead>\n",
       "    <tr style=\"text-align: right;\">\n",
       "      <th></th>\n",
       "      <th>mean_mileage</th>\n",
       "      <th>mean_price</th>\n",
       "    </tr>\n",
       "  </thead>\n",
       "  <tbody>\n",
       "    <tr>\n",
       "      <th>audi</th>\n",
       "      <td>129379.606880</td>\n",
       "      <td>9324.986732</td>\n",
       "    </tr>\n",
       "    <tr>\n",
       "      <th>bmw</th>\n",
       "      <td>132944.977482</td>\n",
       "      <td>8227.933033</td>\n",
       "    </tr>\n",
       "    <tr>\n",
       "      <th>citroen</th>\n",
       "      <td>120562.310030</td>\n",
       "      <td>3658.685410</td>\n",
       "    </tr>\n",
       "    <tr>\n",
       "      <th>fiat</th>\n",
       "      <td>118356.964137</td>\n",
       "      <td>2707.771476</td>\n",
       "    </tr>\n",
       "    <tr>\n",
       "      <th>ford</th>\n",
       "      <td>125275.723968</td>\n",
       "      <td>3464.300678</td>\n",
       "    </tr>\n",
       "    <tr>\n",
       "      <th>hyundai</th>\n",
       "      <td>107058.823529</td>\n",
       "      <td>5402.913866</td>\n",
       "    </tr>\n",
       "    <tr>\n",
       "      <th>mazda</th>\n",
       "      <td>124841.379310</td>\n",
       "      <td>4100.328276</td>\n",
       "    </tr>\n",
       "    <tr>\n",
       "      <th>mercedes_benz</th>\n",
       "      <td>131274.487209</td>\n",
       "      <td>8437.830145</td>\n",
       "    </tr>\n",
       "    <tr>\n",
       "      <th>mini</th>\n",
       "      <td>89261.501211</td>\n",
       "      <td>10616.142857</td>\n",
       "    </tr>\n",
       "    <tr>\n",
       "      <th>mitsubishi</th>\n",
       "      <td>127207.792208</td>\n",
       "      <td>3428.207792</td>\n",
       "    </tr>\n",
       "    <tr>\n",
       "      <th>nissan</th>\n",
       "      <td>118496.551724</td>\n",
       "      <td>4705.140690</td>\n",
       "    </tr>\n",
       "    <tr>\n",
       "      <th>opel</th>\n",
       "      <td>130012.812931</td>\n",
       "      <td>2961.440568</td>\n",
       "    </tr>\n",
       "    <tr>\n",
       "      <th>peugeot</th>\n",
       "      <td>127330.028329</td>\n",
       "      <td>3085.263456</td>\n",
       "    </tr>\n",
       "    <tr>\n",
       "      <th>renault</th>\n",
       "      <td>128523.029229</td>\n",
       "      <td>2409.066873</td>\n",
       "    </tr>\n",
       "    <tr>\n",
       "      <th>seat</th>\n",
       "      <td>122015.765766</td>\n",
       "      <td>4388.873874</td>\n",
       "    </tr>\n",
       "    <tr>\n",
       "      <th>skoda</th>\n",
       "      <td>111355.932203</td>\n",
       "      <td>6407.966102</td>\n",
       "    </tr>\n",
       "    <tr>\n",
       "      <th>smart</th>\n",
       "      <td>100562.865497</td>\n",
       "      <td>3550.305556</td>\n",
       "    </tr>\n",
       "    <tr>\n",
       "      <th>toyota</th>\n",
       "      <td>116227.045075</td>\n",
       "      <td>5151.639399</td>\n",
       "    </tr>\n",
       "    <tr>\n",
       "      <th>volkswagen</th>\n",
       "      <td>129409.261323</td>\n",
       "      <td>5379.343703</td>\n",
       "    </tr>\n",
       "    <tr>\n",
       "      <th>volvo</th>\n",
       "      <td>139890.776699</td>\n",
       "      <td>4843.000000</td>\n",
       "    </tr>\n",
       "  </tbody>\n",
       "</table>\n",
       "</div>"
      ],
      "text/plain": [
       "                mean_mileage    mean_price\n",
       "audi           129379.606880   9324.986732\n",
       "bmw            132944.977482   8227.933033\n",
       "citroen        120562.310030   3658.685410\n",
       "fiat           118356.964137   2707.771476\n",
       "ford           125275.723968   3464.300678\n",
       "hyundai        107058.823529   5402.913866\n",
       "mazda          124841.379310   4100.328276\n",
       "mercedes_benz  131274.487209   8437.830145\n",
       "mini            89261.501211  10616.142857\n",
       "mitsubishi     127207.792208   3428.207792\n",
       "nissan         118496.551724   4705.140690\n",
       "opel           130012.812931   2961.440568\n",
       "peugeot        127330.028329   3085.263456\n",
       "renault        128523.029229   2409.066873\n",
       "seat           122015.765766   4388.873874\n",
       "skoda          111355.932203   6407.966102\n",
       "smart          100562.865497   3550.305556\n",
       "toyota         116227.045075   5151.639399\n",
       "volkswagen     129409.261323   5379.343703\n",
       "volvo          139890.776699   4843.000000"
      ]
     },
     "execution_count": 119,
     "metadata": {},
     "output_type": "execute_result"
    }
   ],
   "source": [
    "\n",
    "mean_price = pd.Series(price_by_brand)\n",
    "mean_mileage = pd.Series(mileage_by_brand)\n",
    "\n",
    "brand_df = pd.DataFrame({'mean_price': mean_price, 'mean_mileage': mean_mileage})\n",
    "\n",
    "brand_df"
   ]
  },
  {
   "cell_type": "markdown",
   "metadata": {
    "collapsed": true
   },
   "source": [
    "> Converted both mean_price and mean_mileage to series to make a dataframe from which we can easily visually compare our findings."
   ]
  },
  {
   "cell_type": "code",
   "execution_count": null,
   "metadata": {
    "collapsed": true
   },
   "outputs": [],
   "source": []
  }
 ],
 "metadata": {
  "kernelspec": {
   "display_name": "Python 3",
   "language": "python",
   "name": "python3"
  },
  "language_info": {
   "codemirror_mode": {
    "name": "ipython",
    "version": 3
   },
   "file_extension": ".py",
   "mimetype": "text/x-python",
   "name": "python",
   "nbconvert_exporter": "python",
   "pygments_lexer": "ipython3",
   "version": "3.4.3"
  }
 },
 "nbformat": 4,
 "nbformat_minor": 2
}
