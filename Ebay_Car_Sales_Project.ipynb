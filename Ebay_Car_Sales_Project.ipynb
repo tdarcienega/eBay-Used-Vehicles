{
 "cells": [
  {
   "cell_type": "markdown",
   "metadata": {
    "collapsed": true
   },
   "source": [
    "## eBay Classifieds Data Cleaning & Analysis\n",
    "Methodology:\n",
    "<br> \n",
    "In this project, we wil be looking at for-sale cars data collected from the German Ebay. We will be using various data cleaning techniques to prepare the data and make insightful obeservations about the price, make, and odometer of the cars. More specifically, our goal will be to see if odometer readings are correlated to prices for the most popular car brands. \n"
   ]
  },
  {
   "cell_type": "markdown",
   "metadata": {},
   "source": [
    "### Step 1: Data Read-In & Exploration"
   ]
  },
  {
   "cell_type": "code",
   "execution_count": 27,
   "metadata": {},
   "outputs": [],
   "source": [
    "import pandas as pd\n",
    "import numpy as np\n",
    "import matplotlib.pyplot as plt"
   ]
  },
  {
   "cell_type": "code",
   "execution_count": 28,
   "metadata": {},
   "outputs": [],
   "source": [
    "autos = pd.read_csv('autos.csv', encoding='latin1')"
   ]
  },
  {
   "cell_type": "code",
   "execution_count": 29,
   "metadata": {},
   "outputs": [
    {
     "name": "stdout",
     "output_type": "stream",
     "text": [
      "           dateCrawled                            name  seller offerType  \\\n",
      "0  2016-03-24 11:52:17                      Golf_3_1.6  privat   Angebot   \n",
      "1  2016-03-24 10:58:45            A5_Sportback_2.7_Tdi  privat   Angebot   \n",
      "2  2016-03-14 12:52:21  Jeep_Grand_Cherokee_\"Overland\"  privat   Angebot   \n",
      "3  2016-03-17 16:54:04              GOLF_4_1_4__3TÜRER  privat   Angebot   \n",
      "4  2016-03-31 17:25:20  Skoda_Fabia_1.4_TDI_PD_Classic  privat   Angebot   \n",
      "\n",
      "   price abtest vehicleType  yearOfRegistration    gearbox  powerPS  model  \\\n",
      "0    480   test         NaN                1993    manuell        0   golf   \n",
      "1  18300   test       coupe                2011    manuell      190    NaN   \n",
      "2   9800   test         suv                2004  automatik      163  grand   \n",
      "3   1500   test  kleinwagen                2001    manuell       75   golf   \n",
      "4   3600   test  kleinwagen                2008    manuell       69  fabia   \n",
      "\n",
      "   kilometer  monthOfRegistration fuelType       brand notRepairedDamage  \\\n",
      "0     150000                    0   benzin  volkswagen               NaN   \n",
      "1     125000                    5   diesel        audi                ja   \n",
      "2     125000                    8   diesel        jeep               NaN   \n",
      "3     150000                    6   benzin  volkswagen              nein   \n",
      "4      90000                    7   diesel       skoda              nein   \n",
      "\n",
      "           dateCreated  nrOfPictures  postalCode             lastSeen  \n",
      "0  2016-03-24 00:00:00             0       70435  2016-04-07 03:16:57  \n",
      "1  2016-03-24 00:00:00             0       66954  2016-04-07 01:46:50  \n",
      "2  2016-03-14 00:00:00             0       90480  2016-04-05 12:47:46  \n",
      "3  2016-03-17 00:00:00             0       91074  2016-03-17 17:40:17  \n",
      "4  2016-03-31 00:00:00             0       60437  2016-04-06 10:17:21  \n",
      "<class 'pandas.core.frame.DataFrame'>\n",
      "RangeIndex: 371528 entries, 0 to 371527\n",
      "Data columns (total 20 columns):\n",
      " #   Column               Non-Null Count   Dtype \n",
      "---  ------               --------------   ----- \n",
      " 0   dateCrawled          371528 non-null  object\n",
      " 1   name                 371528 non-null  object\n",
      " 2   seller               371528 non-null  object\n",
      " 3   offerType            371528 non-null  object\n",
      " 4   price                371528 non-null  int64 \n",
      " 5   abtest               371528 non-null  object\n",
      " 6   vehicleType          333659 non-null  object\n",
      " 7   yearOfRegistration   371528 non-null  int64 \n",
      " 8   gearbox              351319 non-null  object\n",
      " 9   powerPS              371528 non-null  int64 \n",
      " 10  model                351044 non-null  object\n",
      " 11  kilometer            371528 non-null  int64 \n",
      " 12  monthOfRegistration  371528 non-null  int64 \n",
      " 13  fuelType             338142 non-null  object\n",
      " 14  brand                371528 non-null  object\n",
      " 15  notRepairedDamage    299468 non-null  object\n",
      " 16  dateCreated          371528 non-null  object\n",
      " 17  nrOfPictures         371528 non-null  int64 \n",
      " 18  postalCode           371528 non-null  int64 \n",
      " 19  lastSeen             371528 non-null  object\n",
      "dtypes: int64(7), object(13)\n",
      "memory usage: 56.7+ MB\n"
     ]
    }
   ],
   "source": [
    "#print the first few columns to get familiar with the data \n",
    "print(autos.head())\n",
    "#print number of non_null entries corresponding to every column\n",
    "autos.info()"
   ]
  },
  {
   "cell_type": "markdown",
   "metadata": {},
   "source": [
    ">We can see that the 'name' column will need to be cleaned of extraneous characters to be better understood.<br>\n",
    "Using info( ), we can see that there are is only one columns with > 20% NaN values, that is 'unrepaired_damage'.\n",
    "<br> Since most of our column have valid entries, we should explore columns which have a large percent of non-unique values. This will allow us to simplify our dataframe so we can extract our desired metrics.\n"
   ]
  },
  {
   "cell_type": "markdown",
   "metadata": {},
   "source": [
    "### Step 2: Data Cleaning\n",
    "In this next section we will focus on making the content our columns understandable and easily processed. We will also look for potential columns to drop. "
   ]
  },
  {
   "cell_type": "code",
   "execution_count": 30,
   "metadata": {},
   "outputs": [
    {
     "data": {
      "text/plain": [
       "Index(['dateCrawled', 'name', 'seller', 'offerType', 'price', 'abtest',\n",
       "       'vehicleType', 'yearOfRegistration', 'gearbox', 'powerPS', 'model',\n",
       "       'kilometer', 'monthOfRegistration', 'fuelType', 'brand',\n",
       "       'notRepairedDamage', 'dateCreated', 'nrOfPictures', 'postalCode',\n",
       "       'lastSeen'],\n",
       "      dtype='object')"
      ]
     },
     "execution_count": 30,
     "metadata": {},
     "output_type": "execute_result"
    }
   ],
   "source": [
    "#print all of the column names\n",
    "autos.columns"
   ]
  },
  {
   "cell_type": "code",
   "execution_count": 31,
   "metadata": {},
   "outputs": [],
   "source": [
    "#rename the columns to be snakecase\n",
    "autos.columns = ['date_crawled', 'name', 'seller', 'offer_type', 'price', 'abtest',\n",
    "       'vehicle_type', 'registration_year', 'gearbox', 'powerPS', 'model',\n",
    "       'odometer', 'registration_month', 'fuel_type', 'brand',\n",
    "       'unrepaired_damage', 'ad_created', 'nr_of_pictures', 'postal_code',\n",
    "       'last_seen']"
   ]
  },
  {
   "cell_type": "code",
   "execution_count": 32,
   "metadata": {},
   "outputs": [
    {
     "data": {
      "text/html": [
       "<div>\n",
       "<style scoped>\n",
       "    .dataframe tbody tr th:only-of-type {\n",
       "        vertical-align: middle;\n",
       "    }\n",
       "\n",
       "    .dataframe tbody tr th {\n",
       "        vertical-align: top;\n",
       "    }\n",
       "\n",
       "    .dataframe thead th {\n",
       "        text-align: right;\n",
       "    }\n",
       "</style>\n",
       "<table border=\"1\" class=\"dataframe\">\n",
       "  <thead>\n",
       "    <tr style=\"text-align: right;\">\n",
       "      <th></th>\n",
       "      <th>date_crawled</th>\n",
       "      <th>name</th>\n",
       "      <th>seller</th>\n",
       "      <th>offer_type</th>\n",
       "      <th>price</th>\n",
       "      <th>abtest</th>\n",
       "      <th>vehicle_type</th>\n",
       "      <th>registration_year</th>\n",
       "      <th>gearbox</th>\n",
       "      <th>powerPS</th>\n",
       "      <th>model</th>\n",
       "      <th>odometer</th>\n",
       "      <th>registration_month</th>\n",
       "      <th>fuel_type</th>\n",
       "      <th>brand</th>\n",
       "      <th>unrepaired_damage</th>\n",
       "      <th>ad_created</th>\n",
       "      <th>nr_of_pictures</th>\n",
       "      <th>postal_code</th>\n",
       "      <th>last_seen</th>\n",
       "    </tr>\n",
       "  </thead>\n",
       "  <tbody>\n",
       "    <tr>\n",
       "      <th>count</th>\n",
       "      <td>371528</td>\n",
       "      <td>371528</td>\n",
       "      <td>371528</td>\n",
       "      <td>371528</td>\n",
       "      <td>3.715280e+05</td>\n",
       "      <td>371528</td>\n",
       "      <td>333659</td>\n",
       "      <td>371528.000000</td>\n",
       "      <td>351319</td>\n",
       "      <td>371528.000000</td>\n",
       "      <td>351044</td>\n",
       "      <td>371528.000000</td>\n",
       "      <td>371528.000000</td>\n",
       "      <td>338142</td>\n",
       "      <td>371528</td>\n",
       "      <td>299468</td>\n",
       "      <td>371528</td>\n",
       "      <td>371528.0</td>\n",
       "      <td>371528.00000</td>\n",
       "      <td>371528</td>\n",
       "    </tr>\n",
       "    <tr>\n",
       "      <th>unique</th>\n",
       "      <td>280500</td>\n",
       "      <td>233531</td>\n",
       "      <td>2</td>\n",
       "      <td>2</td>\n",
       "      <td>NaN</td>\n",
       "      <td>2</td>\n",
       "      <td>8</td>\n",
       "      <td>NaN</td>\n",
       "      <td>2</td>\n",
       "      <td>NaN</td>\n",
       "      <td>251</td>\n",
       "      <td>NaN</td>\n",
       "      <td>NaN</td>\n",
       "      <td>7</td>\n",
       "      <td>40</td>\n",
       "      <td>2</td>\n",
       "      <td>114</td>\n",
       "      <td>NaN</td>\n",
       "      <td>NaN</td>\n",
       "      <td>182806</td>\n",
       "    </tr>\n",
       "    <tr>\n",
       "      <th>top</th>\n",
       "      <td>2016-03-24 14:49:47</td>\n",
       "      <td>Ford_Fiesta</td>\n",
       "      <td>privat</td>\n",
       "      <td>Angebot</td>\n",
       "      <td>NaN</td>\n",
       "      <td>test</td>\n",
       "      <td>limousine</td>\n",
       "      <td>NaN</td>\n",
       "      <td>manuell</td>\n",
       "      <td>NaN</td>\n",
       "      <td>golf</td>\n",
       "      <td>NaN</td>\n",
       "      <td>NaN</td>\n",
       "      <td>benzin</td>\n",
       "      <td>volkswagen</td>\n",
       "      <td>nein</td>\n",
       "      <td>2016-04-03 00:00:00</td>\n",
       "      <td>NaN</td>\n",
       "      <td>NaN</td>\n",
       "      <td>2016-04-06 13:45:54</td>\n",
       "    </tr>\n",
       "    <tr>\n",
       "      <th>freq</th>\n",
       "      <td>7</td>\n",
       "      <td>657</td>\n",
       "      <td>371525</td>\n",
       "      <td>371516</td>\n",
       "      <td>NaN</td>\n",
       "      <td>192585</td>\n",
       "      <td>95894</td>\n",
       "      <td>NaN</td>\n",
       "      <td>274214</td>\n",
       "      <td>NaN</td>\n",
       "      <td>30070</td>\n",
       "      <td>NaN</td>\n",
       "      <td>NaN</td>\n",
       "      <td>223857</td>\n",
       "      <td>79640</td>\n",
       "      <td>263182</td>\n",
       "      <td>14450</td>\n",
       "      <td>NaN</td>\n",
       "      <td>NaN</td>\n",
       "      <td>17</td>\n",
       "    </tr>\n",
       "    <tr>\n",
       "      <th>mean</th>\n",
       "      <td>NaN</td>\n",
       "      <td>NaN</td>\n",
       "      <td>NaN</td>\n",
       "      <td>NaN</td>\n",
       "      <td>1.729514e+04</td>\n",
       "      <td>NaN</td>\n",
       "      <td>NaN</td>\n",
       "      <td>2004.577997</td>\n",
       "      <td>NaN</td>\n",
       "      <td>115.549477</td>\n",
       "      <td>NaN</td>\n",
       "      <td>125618.688228</td>\n",
       "      <td>5.734445</td>\n",
       "      <td>NaN</td>\n",
       "      <td>NaN</td>\n",
       "      <td>NaN</td>\n",
       "      <td>NaN</td>\n",
       "      <td>0.0</td>\n",
       "      <td>50820.66764</td>\n",
       "      <td>NaN</td>\n",
       "    </tr>\n",
       "    <tr>\n",
       "      <th>std</th>\n",
       "      <td>NaN</td>\n",
       "      <td>NaN</td>\n",
       "      <td>NaN</td>\n",
       "      <td>NaN</td>\n",
       "      <td>3.587954e+06</td>\n",
       "      <td>NaN</td>\n",
       "      <td>NaN</td>\n",
       "      <td>92.866598</td>\n",
       "      <td>NaN</td>\n",
       "      <td>192.139578</td>\n",
       "      <td>NaN</td>\n",
       "      <td>40112.337051</td>\n",
       "      <td>3.712412</td>\n",
       "      <td>NaN</td>\n",
       "      <td>NaN</td>\n",
       "      <td>NaN</td>\n",
       "      <td>NaN</td>\n",
       "      <td>0.0</td>\n",
       "      <td>25799.08247</td>\n",
       "      <td>NaN</td>\n",
       "    </tr>\n",
       "    <tr>\n",
       "      <th>min</th>\n",
       "      <td>NaN</td>\n",
       "      <td>NaN</td>\n",
       "      <td>NaN</td>\n",
       "      <td>NaN</td>\n",
       "      <td>0.000000e+00</td>\n",
       "      <td>NaN</td>\n",
       "      <td>NaN</td>\n",
       "      <td>1000.000000</td>\n",
       "      <td>NaN</td>\n",
       "      <td>0.000000</td>\n",
       "      <td>NaN</td>\n",
       "      <td>5000.000000</td>\n",
       "      <td>0.000000</td>\n",
       "      <td>NaN</td>\n",
       "      <td>NaN</td>\n",
       "      <td>NaN</td>\n",
       "      <td>NaN</td>\n",
       "      <td>0.0</td>\n",
       "      <td>1067.00000</td>\n",
       "      <td>NaN</td>\n",
       "    </tr>\n",
       "    <tr>\n",
       "      <th>25%</th>\n",
       "      <td>NaN</td>\n",
       "      <td>NaN</td>\n",
       "      <td>NaN</td>\n",
       "      <td>NaN</td>\n",
       "      <td>1.150000e+03</td>\n",
       "      <td>NaN</td>\n",
       "      <td>NaN</td>\n",
       "      <td>1999.000000</td>\n",
       "      <td>NaN</td>\n",
       "      <td>70.000000</td>\n",
       "      <td>NaN</td>\n",
       "      <td>125000.000000</td>\n",
       "      <td>3.000000</td>\n",
       "      <td>NaN</td>\n",
       "      <td>NaN</td>\n",
       "      <td>NaN</td>\n",
       "      <td>NaN</td>\n",
       "      <td>0.0</td>\n",
       "      <td>30459.00000</td>\n",
       "      <td>NaN</td>\n",
       "    </tr>\n",
       "    <tr>\n",
       "      <th>50%</th>\n",
       "      <td>NaN</td>\n",
       "      <td>NaN</td>\n",
       "      <td>NaN</td>\n",
       "      <td>NaN</td>\n",
       "      <td>2.950000e+03</td>\n",
       "      <td>NaN</td>\n",
       "      <td>NaN</td>\n",
       "      <td>2003.000000</td>\n",
       "      <td>NaN</td>\n",
       "      <td>105.000000</td>\n",
       "      <td>NaN</td>\n",
       "      <td>150000.000000</td>\n",
       "      <td>6.000000</td>\n",
       "      <td>NaN</td>\n",
       "      <td>NaN</td>\n",
       "      <td>NaN</td>\n",
       "      <td>NaN</td>\n",
       "      <td>0.0</td>\n",
       "      <td>49610.00000</td>\n",
       "      <td>NaN</td>\n",
       "    </tr>\n",
       "    <tr>\n",
       "      <th>75%</th>\n",
       "      <td>NaN</td>\n",
       "      <td>NaN</td>\n",
       "      <td>NaN</td>\n",
       "      <td>NaN</td>\n",
       "      <td>7.200000e+03</td>\n",
       "      <td>NaN</td>\n",
       "      <td>NaN</td>\n",
       "      <td>2008.000000</td>\n",
       "      <td>NaN</td>\n",
       "      <td>150.000000</td>\n",
       "      <td>NaN</td>\n",
       "      <td>150000.000000</td>\n",
       "      <td>9.000000</td>\n",
       "      <td>NaN</td>\n",
       "      <td>NaN</td>\n",
       "      <td>NaN</td>\n",
       "      <td>NaN</td>\n",
       "      <td>0.0</td>\n",
       "      <td>71546.00000</td>\n",
       "      <td>NaN</td>\n",
       "    </tr>\n",
       "    <tr>\n",
       "      <th>max</th>\n",
       "      <td>NaN</td>\n",
       "      <td>NaN</td>\n",
       "      <td>NaN</td>\n",
       "      <td>NaN</td>\n",
       "      <td>2.147484e+09</td>\n",
       "      <td>NaN</td>\n",
       "      <td>NaN</td>\n",
       "      <td>9999.000000</td>\n",
       "      <td>NaN</td>\n",
       "      <td>20000.000000</td>\n",
       "      <td>NaN</td>\n",
       "      <td>150000.000000</td>\n",
       "      <td>12.000000</td>\n",
       "      <td>NaN</td>\n",
       "      <td>NaN</td>\n",
       "      <td>NaN</td>\n",
       "      <td>NaN</td>\n",
       "      <td>0.0</td>\n",
       "      <td>99998.00000</td>\n",
       "      <td>NaN</td>\n",
       "    </tr>\n",
       "  </tbody>\n",
       "</table>\n",
       "</div>"
      ],
      "text/plain": [
       "               date_crawled         name  seller offer_type         price  \\\n",
       "count                371528       371528  371528     371528  3.715280e+05   \n",
       "unique               280500       233531       2          2           NaN   \n",
       "top     2016-03-24 14:49:47  Ford_Fiesta  privat    Angebot           NaN   \n",
       "freq                      7          657  371525     371516           NaN   \n",
       "mean                    NaN          NaN     NaN        NaN  1.729514e+04   \n",
       "std                     NaN          NaN     NaN        NaN  3.587954e+06   \n",
       "min                     NaN          NaN     NaN        NaN  0.000000e+00   \n",
       "25%                     NaN          NaN     NaN        NaN  1.150000e+03   \n",
       "50%                     NaN          NaN     NaN        NaN  2.950000e+03   \n",
       "75%                     NaN          NaN     NaN        NaN  7.200000e+03   \n",
       "max                     NaN          NaN     NaN        NaN  2.147484e+09   \n",
       "\n",
       "        abtest vehicle_type  registration_year  gearbox        powerPS  \\\n",
       "count   371528       333659      371528.000000   351319  371528.000000   \n",
       "unique       2            8                NaN        2            NaN   \n",
       "top       test    limousine                NaN  manuell            NaN   \n",
       "freq    192585        95894                NaN   274214            NaN   \n",
       "mean       NaN          NaN        2004.577997      NaN     115.549477   \n",
       "std        NaN          NaN          92.866598      NaN     192.139578   \n",
       "min        NaN          NaN        1000.000000      NaN       0.000000   \n",
       "25%        NaN          NaN        1999.000000      NaN      70.000000   \n",
       "50%        NaN          NaN        2003.000000      NaN     105.000000   \n",
       "75%        NaN          NaN        2008.000000      NaN     150.000000   \n",
       "max        NaN          NaN        9999.000000      NaN   20000.000000   \n",
       "\n",
       "         model       odometer  registration_month fuel_type       brand  \\\n",
       "count   351044  371528.000000       371528.000000    338142      371528   \n",
       "unique     251            NaN                 NaN         7          40   \n",
       "top       golf            NaN                 NaN    benzin  volkswagen   \n",
       "freq     30070            NaN                 NaN    223857       79640   \n",
       "mean       NaN  125618.688228            5.734445       NaN         NaN   \n",
       "std        NaN   40112.337051            3.712412       NaN         NaN   \n",
       "min        NaN    5000.000000            0.000000       NaN         NaN   \n",
       "25%        NaN  125000.000000            3.000000       NaN         NaN   \n",
       "50%        NaN  150000.000000            6.000000       NaN         NaN   \n",
       "75%        NaN  150000.000000            9.000000       NaN         NaN   \n",
       "max        NaN  150000.000000           12.000000       NaN         NaN   \n",
       "\n",
       "       unrepaired_damage           ad_created  nr_of_pictures   postal_code  \\\n",
       "count             299468               371528        371528.0  371528.00000   \n",
       "unique                 2                  114             NaN           NaN   \n",
       "top                 nein  2016-04-03 00:00:00             NaN           NaN   \n",
       "freq              263182                14450             NaN           NaN   \n",
       "mean                 NaN                  NaN             0.0   50820.66764   \n",
       "std                  NaN                  NaN             0.0   25799.08247   \n",
       "min                  NaN                  NaN             0.0    1067.00000   \n",
       "25%                  NaN                  NaN             0.0   30459.00000   \n",
       "50%                  NaN                  NaN             0.0   49610.00000   \n",
       "75%                  NaN                  NaN             0.0   71546.00000   \n",
       "max                  NaN                  NaN             0.0   99998.00000   \n",
       "\n",
       "                  last_seen  \n",
       "count                371528  \n",
       "unique               182806  \n",
       "top     2016-04-06 13:45:54  \n",
       "freq                     17  \n",
       "mean                    NaN  \n",
       "std                     NaN  \n",
       "min                     NaN  \n",
       "25%                     NaN  \n",
       "50%                     NaN  \n",
       "75%                     NaN  \n",
       "max                     NaN  "
      ]
     },
     "execution_count": 32,
     "metadata": {},
     "output_type": "execute_result"
    }
   ],
   "source": [
    "#print a summary of each column in the dataframe\n",
    "autos.describe(include = 'all')\n"
   ]
  },
  {
   "cell_type": "markdown",
   "metadata": {},
   "source": [
    "> From our summary, we can quickly see that 'seller', and 'offer_type' have very few unique entries. Due to the redundancies in these columns, we will be unable to make valuable extrapolations. This makes them good candidates for being dropped. We can also note there are several other column that have only two unique values, but these are Yes/No entries which are able to preserve information. \n"
   ]
  },
  {
   "cell_type": "code",
   "execution_count": 34,
   "metadata": {},
   "outputs": [],
   "source": [
    "#Dropped columns where > 90% of the values are the same.\n",
    "autos = autos.drop(\"seller\", axis=1).drop(\"offer_type\", axis=1)"
   ]
  },
  {
   "cell_type": "markdown",
   "metadata": {},
   "source": [
    "Next, we will be cleaning up some of the names of the columns. The 'price' and 'odometer' columns are both strings type which we need to change to float so we can run summary statistics. "
   ]
  },
  {
   "cell_type": "code",
   "execution_count": 35,
   "metadata": {},
   "outputs": [],
   "source": [
    "#change to float type and remove '$' from entries \n",
    "autos[\"price\"] = autos[\"price\"].str.replace(\"$\",\"\").str.replace(\",\",\"\").astype(float)"
   ]
  },
  {
   "cell_type": "code",
   "execution_count": 36,
   "metadata": {},
   "outputs": [],
   "source": [
    "autos[\"odometer\"] = autos[\"odometer\"].str.replace(\"km\",\"\").str.replace(\",\",\"\").astype(float)   \n",
    "#rename column after conversion to float to designate units \n",
    "autos.rename({'odometer': 'odometer_km'}, axis=1, inplace=True)"
   ]
  },
  {
   "cell_type": "markdown",
   "metadata": {},
   "source": [
    "Since, our main question relates to odometer values, we will explore the column individually."
   ]
  },
  {
   "cell_type": "code",
   "execution_count": 37,
   "metadata": {},
   "outputs": [
    {
     "name": "stdout",
     "output_type": "stream",
     "text": [
      "(13,)\n",
      "count    371528.000000\n",
      "mean     125618.688228\n",
      "std       40112.337051\n",
      "min        5000.000000\n",
      "25%      125000.000000\n",
      "50%      150000.000000\n",
      "75%      150000.000000\n",
      "max      150000.000000\n",
      "Name: odometer_km, dtype: float64\n"
     ]
    },
    {
     "data": {
      "text/plain": [
       "150000    240797\n",
       "125000     38067\n",
       "100000     15920\n",
       "90000      12523\n",
       "80000      11053\n",
       "70000       9773\n",
       "60000       8669\n",
       "50000       7615\n",
       "5000        7069\n",
       "40000       6376\n",
       "30000       6041\n",
       "20000       5676\n",
       "10000       1949\n",
       "Name: odometer_km, dtype: int64"
      ]
     },
     "execution_count": 37,
     "metadata": {},
     "output_type": "execute_result"
    }
   ],
   "source": [
    "odo_vals = autos[\"odometer_km\"]\n",
    "print(odo_vals.unique().shape)\n",
    "print(odo_vals.describe())\n",
    "odo_vals.value_counts()"
   ]
  },
  {
   "cell_type": "markdown",
   "metadata": {},
   "source": [
    "> There are no obvious outlier values to be removed from odo_vals since all values appear to meaningful"
   ]
  },
  {
   "cell_type": "code",
   "execution_count": 38,
   "metadata": {},
   "outputs": [
    {
     "name": "stdout",
     "output_type": "stream",
     "text": [
      "count    3.715280e+05\n",
      "mean     1.729514e+04\n",
      "std      3.587954e+06\n",
      "min      0.000000e+00\n",
      "25%      1.150000e+03\n",
      "50%      2.950000e+03\n",
      "75%      7.200000e+03\n",
      "max      2.147484e+09\n",
      "Name: price, dtype: float64\n",
      "2147483647        1\n",
      "99999999         15\n",
      "99000000          1\n",
      "74185296          1\n",
      "32545461          1\n",
      "              ...  \n",
      "4                 1\n",
      "3                 8\n",
      "2                12\n",
      "1              1189\n",
      "0             10778\n",
      "Name: price, Length: 5597, dtype: int64\n",
      "True     370458\n",
      "False      1070\n",
      "Name: price, dtype: int64\n"
     ]
    }
   ],
   "source": [
    "pr = autos[\"price\"]\n",
    "pr_5 = autos[\"price\"] < 60000\n",
    "print(pr.describe())\n",
    "print(pr.value_counts().sort_index(ascending=False))\n",
    "print(pr_5.value_counts())"
   ]
  },
  {
   "cell_type": "code",
   "execution_count": 39,
   "metadata": {},
   "outputs": [],
   "source": [
    "autos = autos[autos['price'].between(100, 100001)]"
   ]
  },
  {
   "cell_type": "markdown",
   "metadata": {},
   "source": [
    ">The price column has around 2,000 distinct values. We removed any prices that were unrealistically high i.e. anything above 100,000. We can also remove any entries below 100 since anything below is likely not reflective of the actual cost."
   ]
  },
  {
   "cell_type": "code",
   "execution_count": 40,
   "metadata": {},
   "outputs": [
    {
     "data": {
      "text/html": [
       "<div>\n",
       "<style scoped>\n",
       "    .dataframe tbody tr th:only-of-type {\n",
       "        vertical-align: middle;\n",
       "    }\n",
       "\n",
       "    .dataframe tbody tr th {\n",
       "        vertical-align: top;\n",
       "    }\n",
       "\n",
       "    .dataframe thead th {\n",
       "        text-align: right;\n",
       "    }\n",
       "</style>\n",
       "<table border=\"1\" class=\"dataframe\">\n",
       "  <thead>\n",
       "    <tr style=\"text-align: right;\">\n",
       "      <th></th>\n",
       "      <th>price</th>\n",
       "      <th>registration_year</th>\n",
       "      <th>powerPS</th>\n",
       "      <th>odometer_km</th>\n",
       "      <th>registration_month</th>\n",
       "      <th>nr_of_pictures</th>\n",
       "      <th>postal_code</th>\n",
       "    </tr>\n",
       "  </thead>\n",
       "  <tbody>\n",
       "    <tr>\n",
       "      <th>count</th>\n",
       "      <td>357805.000000</td>\n",
       "      <td>357805.000000</td>\n",
       "      <td>357805.000000</td>\n",
       "      <td>357805.000000</td>\n",
       "      <td>357805.000000</td>\n",
       "      <td>357805.0</td>\n",
       "      <td>357805.000000</td>\n",
       "    </tr>\n",
       "    <tr>\n",
       "      <th>mean</th>\n",
       "      <td>5816.364481</td>\n",
       "      <td>2004.294445</td>\n",
       "      <td>116.710856</td>\n",
       "      <td>125871.606042</td>\n",
       "      <td>5.816741</td>\n",
       "      <td>0.0</td>\n",
       "      <td>51005.776325</td>\n",
       "    </tr>\n",
       "    <tr>\n",
       "      <th>std</th>\n",
       "      <td>7562.614881</td>\n",
       "      <td>72.258264</td>\n",
       "      <td>188.963362</td>\n",
       "      <td>39527.680682</td>\n",
       "      <td>3.676157</td>\n",
       "      <td>0.0</td>\n",
       "      <td>25750.234413</td>\n",
       "    </tr>\n",
       "    <tr>\n",
       "      <th>min</th>\n",
       "      <td>100.000000</td>\n",
       "      <td>1000.000000</td>\n",
       "      <td>0.000000</td>\n",
       "      <td>5000.000000</td>\n",
       "      <td>0.000000</td>\n",
       "      <td>0.0</td>\n",
       "      <td>1067.000000</td>\n",
       "    </tr>\n",
       "    <tr>\n",
       "      <th>25%</th>\n",
       "      <td>1290.000000</td>\n",
       "      <td>1999.000000</td>\n",
       "      <td>73.000000</td>\n",
       "      <td>125000.000000</td>\n",
       "      <td>3.000000</td>\n",
       "      <td>0.0</td>\n",
       "      <td>30826.000000</td>\n",
       "    </tr>\n",
       "    <tr>\n",
       "      <th>50%</th>\n",
       "      <td>3100.000000</td>\n",
       "      <td>2004.000000</td>\n",
       "      <td>107.000000</td>\n",
       "      <td>150000.000000</td>\n",
       "      <td>6.000000</td>\n",
       "      <td>0.0</td>\n",
       "      <td>49757.000000</td>\n",
       "    </tr>\n",
       "    <tr>\n",
       "      <th>75%</th>\n",
       "      <td>7499.000000</td>\n",
       "      <td>2008.000000</td>\n",
       "      <td>150.000000</td>\n",
       "      <td>150000.000000</td>\n",
       "      <td>9.000000</td>\n",
       "      <td>0.0</td>\n",
       "      <td>71672.000000</td>\n",
       "    </tr>\n",
       "    <tr>\n",
       "      <th>max</th>\n",
       "      <td>100000.000000</td>\n",
       "      <td>9999.000000</td>\n",
       "      <td>20000.000000</td>\n",
       "      <td>150000.000000</td>\n",
       "      <td>12.000000</td>\n",
       "      <td>0.0</td>\n",
       "      <td>99998.000000</td>\n",
       "    </tr>\n",
       "  </tbody>\n",
       "</table>\n",
       "</div>"
      ],
      "text/plain": [
       "               price  registration_year        powerPS    odometer_km  \\\n",
       "count  357805.000000      357805.000000  357805.000000  357805.000000   \n",
       "mean     5816.364481        2004.294445     116.710856  125871.606042   \n",
       "std      7562.614881          72.258264     188.963362   39527.680682   \n",
       "min       100.000000        1000.000000       0.000000    5000.000000   \n",
       "25%      1290.000000        1999.000000      73.000000  125000.000000   \n",
       "50%      3100.000000        2004.000000     107.000000  150000.000000   \n",
       "75%      7499.000000        2008.000000     150.000000  150000.000000   \n",
       "max    100000.000000        9999.000000   20000.000000  150000.000000   \n",
       "\n",
       "       registration_month  nr_of_pictures    postal_code  \n",
       "count       357805.000000        357805.0  357805.000000  \n",
       "mean             5.816741             0.0   51005.776325  \n",
       "std              3.676157             0.0   25750.234413  \n",
       "min              0.000000             0.0    1067.000000  \n",
       "25%              3.000000             0.0   30826.000000  \n",
       "50%              6.000000             0.0   49757.000000  \n",
       "75%              9.000000             0.0   71672.000000  \n",
       "max             12.000000             0.0   99998.000000  "
      ]
     },
     "execution_count": 40,
     "metadata": {},
     "output_type": "execute_result"
    }
   ],
   "source": [
    "autos.describe()"
   ]
  },
  {
   "cell_type": "markdown",
   "metadata": {},
   "source": [
    "> After removing outlier values, we can better understand the prices. The average cost now seems to be around 5,000."
   ]
  },
  {
   "cell_type": "markdown",
   "metadata": {},
   "source": [
    "#### Observations about date ranges: "
   ]
  },
  {
   "cell_type": "code",
   "execution_count": 41,
   "metadata": {},
   "outputs": [
    {
     "name": "stdout",
     "output_type": "stream",
     "text": [
      "2016-04-07    0.001601\n",
      "2016-04-06    0.003127\n",
      "2016-04-05    0.012761\n",
      "2016-04-04    0.037649\n",
      "2016-04-03    0.038879\n",
      "2016-04-02    0.035148\n",
      "2016-04-01    0.034192\n",
      "2016-03-31    0.031880\n",
      "2016-03-30    0.033563\n",
      "2016-03-29    0.034122\n",
      "2016-03-28    0.035055\n",
      "2016-03-27    0.030206\n",
      "2016-03-26    0.032034\n",
      "2016-03-25    0.032783\n",
      "2016-03-24    0.029888\n",
      "2016-03-23    0.031970\n",
      "2016-03-22    0.032442\n",
      "2016-03-21    0.035623\n",
      "2016-03-20    0.036363\n",
      "2016-03-19    0.035248\n",
      "2016-03-18    0.013102\n",
      "2016-03-17    0.031618\n",
      "2016-03-16    0.030209\n",
      "2016-03-15    0.033398\n",
      "2016-03-14    0.036324\n",
      "2016-03-13    0.015816\n",
      "2016-03-12    0.036344\n",
      "2016-03-11    0.032755\n",
      "2016-03-10    0.032652\n",
      "2016-03-09    0.034128\n",
      "2016-03-08    0.033468\n",
      "2016-03-07    0.035631\n",
      "2016-03-06    0.014441\n",
      "2016-03-05    0.025578\n",
      "Name: date_crawled, dtype: float64\n"
     ]
    }
   ],
   "source": [
    "print(autos[\"date_crawled\"].str[:10].value_counts(normalize=True, dropna=False).sort_index(ascending=False))"
   ]
  },
  {
   "cell_type": "code",
   "execution_count": 42,
   "metadata": {},
   "outputs": [
    {
     "name": "stdout",
     "output_type": "stream",
     "text": [
      "2016-04-07    0.001537\n",
      "2016-04-06    0.003119\n",
      "2016-04-05    0.011593\n",
      "2016-04-04    0.037755\n",
      "2016-04-03    0.039066\n",
      "                ...   \n",
      "2015-08-07    0.000003\n",
      "2015-06-18    0.000003\n",
      "2015-06-11    0.000003\n",
      "2015-03-20    0.000003\n",
      "2014-03-10    0.000003\n",
      "Name: ad_created, Length: 114, dtype: float64\n"
     ]
    }
   ],
   "source": [
    "print(autos[\"ad_created\"].str[:10].value_counts(normalize=True, dropna=False).sort_index(ascending=False))"
   ]
  },
  {
   "cell_type": "code",
   "execution_count": 43,
   "metadata": {},
   "outputs": [
    {
     "name": "stdout",
     "output_type": "stream",
     "text": [
      "2016-04-07    0.130431\n",
      "2016-04-06    0.218996\n",
      "2016-04-05    0.126913\n",
      "2016-04-04    0.025542\n",
      "2016-04-03    0.025349\n",
      "2016-04-02    0.024972\n",
      "2016-04-01    0.023938\n",
      "2016-03-31    0.024251\n",
      "2016-03-30    0.023703\n",
      "2016-03-29    0.023281\n",
      "2016-03-28    0.022194\n",
      "2016-03-27    0.016663\n",
      "2016-03-26    0.015939\n",
      "2016-03-25    0.018980\n",
      "2016-03-24    0.019184\n",
      "2016-03-23    0.018004\n",
      "2016-03-22    0.020483\n",
      "2016-03-21    0.020014\n",
      "2016-03-20    0.019891\n",
      "2016-03-19    0.016347\n",
      "2016-03-18    0.006892\n",
      "2016-03-17    0.028745\n",
      "2016-03-16    0.016459\n",
      "2016-03-15    0.016285\n",
      "2016-03-14    0.012166\n",
      "2016-03-13    0.008421\n",
      "2016-03-12    0.023264\n",
      "2016-03-11    0.012957\n",
      "2016-03-10    0.011467\n",
      "2016-03-09    0.009804\n",
      "2016-03-08    0.007912\n",
      "2016-03-07    0.005193\n",
      "2016-03-06    0.004092\n",
      "2016-03-05    0.001272\n",
      "Name: last_seen, dtype: float64\n"
     ]
    }
   ],
   "source": [
    "print(autos[\"last_seen\"].str[:10].value_counts(normalize=True, dropna=False).sort_index(ascending=False))"
   ]
  },
  {
   "cell_type": "markdown",
   "metadata": {},
   "source": [
    "> We can see that \"date_crawled\" and \"last_seen\" have a smaller date range since they describe more recent occurences. In contrast, \"ad_created\" has a much larger range."
   ]
  },
  {
   "cell_type": "code",
   "execution_count": 44,
   "metadata": {},
   "outputs": [
    {
     "name": "stdout",
     "output_type": "stream",
     "text": [
      "count    357805.000000\n",
      "mean       2004.294445\n",
      "std          72.258264\n",
      "min        1000.000000\n",
      "25%        1999.000000\n",
      "50%        2004.000000\n",
      "75%        2008.000000\n",
      "max        9999.000000\n",
      "Name: registration_year, dtype: float64\n"
     ]
    },
    {
     "data": {
      "text/plain": [
       "9999    13\n",
       "9450     1\n",
       "9000     4\n",
       "8888     1\n",
       "8500     1\n",
       "8200     1\n",
       "7800     1\n",
       "7777     1\n",
       "7500     1\n",
       "7100     1\n",
       "7000     4\n",
       "6200     1\n",
       "6000     6\n",
       "5911     2\n",
       "5900     1\n",
       "5600     1\n",
       "5555     2\n",
       "5300     1\n",
       "5000    14\n",
       "4800     1\n",
       "Name: registration_year, dtype: int64"
      ]
     },
     "execution_count": 44,
     "metadata": {},
     "output_type": "execute_result"
    }
   ],
   "source": [
    "print(autos[\"registration_year\"].describe())\n",
    "autos[\"registration_year\"].value_counts().sort_index(ascending=False).head(20)"
   ]
  },
  {
   "cell_type": "markdown",
   "metadata": {},
   "source": [
    "> The registration year column has some outlier values (> 2020) which we will need to investigate."
   ]
  },
  {
   "cell_type": "code",
   "execution_count": 45,
   "metadata": {},
   "outputs": [
    {
     "name": "stdout",
     "output_type": "stream",
     "text": [
      "True       9578\n",
      "False    348227\n",
      "Name: registration_year, dtype: int64\n"
     ]
    },
    {
     "data": {
      "text/plain": [
       "True      13828\n",
       "False    343977\n",
       "Name: registration_year, dtype: int64"
      ]
     },
     "execution_count": 45,
     "metadata": {},
     "output_type": "execute_result"
    }
   ],
   "source": [
    "aut1 = autos[\"registration_year\"] < 1990\n",
    "aut2 = autos[\"registration_year\"] > 2016\n",
    "print(aut1.value_counts().sort_index(ascending=False))\n",
    "aut2.value_counts().sort_index(ascending=False)"
   ]
  },
  {
   "cell_type": "markdown",
   "metadata": {},
   "source": [
    "> Since there are very few values outside of the range 1990-2016, it is safe for our analysis to continue within this range."
   ]
  },
  {
   "cell_type": "code",
   "execution_count": 46,
   "metadata": {},
   "outputs": [
    {
     "data": {
      "text/plain": [
       "2000    0.065942\n",
       "1999    0.063546\n",
       "2005    0.062619\n",
       "2006    0.057973\n",
       "2001    0.057090\n",
       "2003    0.056800\n",
       "2004    0.056428\n",
       "2002    0.054508\n",
       "2007    0.050704\n",
       "1998    0.049565\n",
       "2008    0.046452\n",
       "2009    0.044930\n",
       "1997    0.040307\n",
       "2010    0.035506\n",
       "2011    0.034745\n",
       "1996    0.029904\n",
       "2017    0.028853\n",
       "2012    0.027107\n",
       "2016    0.026288\n",
       "1995    0.025400\n",
       "2013    0.017663\n",
       "2014    0.013774\n",
       "1994    0.013330\n",
       "1993    0.009392\n",
       "1992    0.008320\n",
       "2015    0.008181\n",
       "1991    0.007641\n",
       "1990    0.007031\n",
       "Name: registration_year, dtype: float64"
      ]
     },
     "execution_count": 46,
     "metadata": {},
     "output_type": "execute_result"
    }
   ],
   "source": [
    "autos = autos[autos[\"registration_year\"].between(1990, 2017)]\n",
    "autos[\"registration_year\"].value_counts(normalize=True)"
   ]
  },
  {
   "cell_type": "markdown",
   "metadata": {},
   "source": [
    ">Within this range, the percentage values are more significant and will give us an ccurate depiction of the registration years."
   ]
  },
  {
   "cell_type": "markdown",
   "metadata": {},
   "source": [
    "#### Aggregation for \"brand\" column: \n",
    "In the following section we will create two dictionaries which group the cars by brand. This will help us get closer towards answering our question about the relationship between odometer values and price."
   ]
  },
  {
   "cell_type": "code",
   "execution_count": 51,
   "metadata": {},
   "outputs": [
    {
     "data": {
      "text/plain": [
       "volkswagen        0.212994\n",
       "bmw               0.110047\n",
       "opel              0.108267\n",
       "mercedes_benz     0.094324\n",
       "audi              0.090392\n",
       "ford              0.069032\n",
       "renault           0.048952\n",
       "peugeot           0.030749\n",
       "fiat              0.025737\n",
       "seat              0.019382\n",
       "skoda             0.015950\n",
       "mazda             0.015726\n",
       "smart             0.014800\n",
       "citroen           0.013966\n",
       "nissan            0.013870\n",
       "toyota            0.013109\n",
       "hyundai           0.010269\n",
       "mini              0.009531\n",
       "volvo             0.008971\n",
       "mitsubishi        0.008405\n",
       "honda             0.007652\n",
       "kia               0.007138\n",
       "sonstige_autos    0.006360\n",
       "suzuki            0.006302\n",
       "alfa_romeo        0.006110\n",
       "porsche           0.004911\n",
       "chevrolet         0.004452\n",
       "chrysler          0.003825\n",
       "dacia             0.002547\n",
       "daihatsu          0.002164\n",
       "subaru            0.002100\n",
       "jeep              0.002085\n",
       "land_rover        0.002050\n",
       "jaguar            0.001542\n",
       "daewoo            0.001516\n",
       "saab              0.001411\n",
       "rover             0.001301\n",
       "lancia            0.001243\n",
       "lada              0.000502\n",
       "trabant           0.000314\n",
       "Name: brand, dtype: float64"
      ]
     },
     "execution_count": 51,
     "metadata": {},
     "output_type": "execute_result"
    }
   ],
   "source": [
    "#get most popular brands by percentage\n",
    "autos['brand'].value_counts(normalize=True).sort_values(ascending=False)"
   ]
  },
  {
   "cell_type": "code",
   "execution_count": 52,
   "metadata": {},
   "outputs": [
    {
     "data": {
      "text/plain": [
       "{'volkswagen': 5350.888752539508,\n",
       " 'bmw': 8398.287467342254,\n",
       " 'opel': 2944.476528969957,\n",
       " 'mercedes_benz': 8317.109516918625,\n",
       " 'audi': 9085.51065060241,\n",
       " 'ford': 3542.058224652924,\n",
       " 'renault': 2402.9295206454676,\n",
       " 'peugeot': 3248.9313373630525,\n",
       " 'fiat': 2753.3856917174453,\n",
       " 'seat': 4503.781690140845,\n",
       " 'skoda': 6502.054624908958,\n",
       " 'mazda': 4069.7076638965837,\n",
       " 'smart': 3612.3569466248036,\n",
       " 'citroen': 3560.1376585568723,\n",
       " 'nissan': 4712.568886097152,\n",
       " 'toyota': 5274.8863535666815,\n",
       " 'hyundai': 5532.62584841629,\n",
       " 'mini': 10032.441194393663,\n",
       " 'volvo': 5204.099708643574,\n",
       " 'mitsubishi': 3370.8217000691084}"
      ]
     },
     "execution_count": 52,
     "metadata": {},
     "output_type": "execute_result"
    }
   ],
   "source": [
    "brands = autos['brand'].value_counts(normalize=True).sort_values(ascending=False)[0:20].index\n",
    "price_by_brand = {}\n",
    "#use loop to get mean prices for each corresponding brand\n",
    "for brand in brands:\n",
    "    price_mean = autos.loc[autos['brand'] == brand, 'price'].mean()\n",
    "    price_by_brand[brand] = price_mean\n",
    "    \n",
    "price_by_brand\n",
    "    "
   ]
  },
  {
   "cell_type": "markdown",
   "metadata": {},
   "source": [
    "> We chose to aggregate by the top 20 values in the column to gain price insights about the more popoular brands."
   ]
  },
  {
   "cell_type": "markdown",
   "metadata": {},
   "source": [
    "Now, we will go through the same process but we will aggregate by brand to get the mean mileage."
   ]
  },
  {
   "cell_type": "code",
   "execution_count": 49,
   "metadata": {},
   "outputs": [
    {
     "data": {
      "text/plain": [
       "{'volkswagen': 129160.08780900178,\n",
       " 'bmw': 133213.6542369303,\n",
       " 'opel': 129511.8025751073,\n",
       " 'mercedes_benz': 131022.81474183318,\n",
       " 'audi': 129748.1124497992,\n",
       " 'ford': 124704.66975178797,\n",
       " 'renault': 128293.18936877076,\n",
       " 'peugeot': 124822.44049867775,\n",
       " 'fiat': 118390.88241931844,\n",
       " 'seat': 121041.35451003896,\n",
       " 'skoda': 113947.56008739985,\n",
       " 'mazda': 125896.58356417359,\n",
       " 'smart': 100321.82103610675,\n",
       " 'citroen': 121778.95612393429,\n",
       " 'nissan': 119526.80067001675,\n",
       " 'toyota': 117269.60567124502,\n",
       " 'hyundai': 104585.69004524886,\n",
       " 'mini': 94323.5831809872,\n",
       " 'volvo': 139138.8798964066,\n",
       " 'mitsubishi': 127214.92743607463}"
      ]
     },
     "execution_count": 49,
     "metadata": {},
     "output_type": "execute_result"
    }
   ],
   "source": [
    "mileage_by_brand = {}\n",
    "\n",
    "for brand in brands:\n",
    "    mileage_mean = autos.loc[autos['brand'] == brand, 'odometer_km'].mean()\n",
    "    mileage_by_brand[brand] = mileage_mean\n",
    "    \n",
    "mileage_by_brand"
   ]
  },
  {
   "cell_type": "markdown",
   "metadata": {},
   "source": [
    "> Now that we have the mean mileage values for each of the top 20 brands, we can see that they are surprisingly all within a relatively small range (90,000-140,000)."
   ]
  },
  {
   "cell_type": "markdown",
   "metadata": {},
   "source": [
    "#### Creating a summary Dataframe: "
   ]
  },
  {
   "cell_type": "code",
   "execution_count": 50,
   "metadata": {},
   "outputs": [
    {
     "name": "stdout",
     "output_type": "stream",
     "text": [
      "                 mean_price   mean_mileage\n",
      "mini           10032.441194   94323.583181\n",
      "audi            9085.510651  129748.112450\n",
      "bmw             8398.287467  133213.654237\n",
      "mercedes_benz   8317.109517  131022.814742\n",
      "skoda           6502.054625  113947.560087\n",
      "hyundai         5532.625848  104585.690045\n",
      "volkswagen      5350.888753  129160.087809\n",
      "toyota          5274.886354  117269.605671\n",
      "volvo           5204.099709  139138.879896\n",
      "nissan          4712.568886  119526.800670\n",
      "seat            4503.781690  121041.354510\n",
      "mazda           4069.707664  125896.583564\n",
      "smart           3612.356947  100321.821036\n",
      "citroen         3560.137659  121778.956124\n",
      "ford            3542.058225  124704.669752\n",
      "mitsubishi      3370.821700  127214.927436\n",
      "peugeot         3248.931337  124822.440499\n",
      "opel            2944.476529  129511.802575\n",
      "fiat            2753.385692  118390.882419\n",
      "renault         2402.929521  128293.189369\n"
     ]
    },
    {
     "data": {
      "image/png": "[encoded data removed]",
      "text/plain": [
       "<Figure size 432x288 with 1 Axes>"
      ]
     },
     "metadata": {
      "needs_background": "light"
     },
     "output_type": "display_data"
    }
   ],
   "source": [
    "import seaborn as sns \n",
    "mean_price = pd.Series(price_by_brand)\n",
    "mean_mileage = pd.Series(mileage_by_brand)\n",
    "\n",
    "brand_df = pd.DataFrame({'mean_price': mean_price, 'mean_mileage': mean_mileage}).sort_values(by='mean_price',ascending=False)\n",
    "\n",
    "print(brand_df)\n",
    "ax1 = brand_df.plot.scatter(x='mean_price',y='mean_mileage')\n"
   ]
  },
  {
   "cell_type": "markdown",
   "metadata": {
    "collapsed": true
   },
   "source": [
    "> Converted both mean_price and mean_mileage to series to make a dataframe from which we can easily visually compare our findings. We can see that the mean_mileage stays around the same but the price varies greatly accoring to brand. "
   ]
  }
 ],
 "metadata": {
  "kernelspec": {
   "display_name": "Python 3",
   "language": "python",
   "name": "python3"
  },
  "language_info": {
   "codemirror_mode": {
    "name": "ipython",
    "version": 3
   },
   "file_extension": ".py",
   "mimetype": "text/x-python",
   "name": "python",
   "nbconvert_exporter": "python",
   "pygments_lexer": "ipython3",
   "version": "3.7.6"
  }
 },
 "nbformat": 4,
 "nbformat_minor": 2
}
